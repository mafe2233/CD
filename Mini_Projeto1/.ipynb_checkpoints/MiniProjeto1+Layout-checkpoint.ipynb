{
 "cells": [
  {
   "cell_type": "markdown",
   "metadata": {},
   "source": [
    "___\n",
    "# MINIPROJETO 1"
   ]
  },
  {
   "cell_type": "markdown",
   "metadata": {},
   "source": [
    "## <font color='red'>Pedro Garcia</font>\n",
    "___"
   ]
  },
  {
   "cell_type": "markdown",
   "metadata": {},
   "source": [
    "## <font color='blue'>Quantidade de acidentes no trabalho</font>"
   ]
  },
  {
   "cell_type": "markdown",
   "metadata": {},
   "source": [
    "___\n",
    "### Itens 1 a 3 - Resolução:"
   ]
  },
  {
   "cell_type": "code",
   "execution_count": 1,
   "metadata": {
    "collapsed": false
   },
   "outputs": [
    {
     "name": "stdout",
     "output_type": "stream",
     "text": [
      "Esperamos trabalhar no diretório\n",
      "C:\\Users\\pedro\\Documents\\facul\\segundo semestre\\Ciencia dos dados\\CDEng\\meu github\\CD\\Mini_Projeto1\n"
     ]
    }
   ],
   "source": [
    "%matplotlib inline\n",
    "import pandas as pd\n",
    "import matplotlib.pyplot as plt\n",
    "import numpy as np\n",
    "import os\n",
    "from scipy import stats\n",
    "\n",
    "print('Esperamos trabalhar no diretório')\n",
    "print(os.getcwd())"
   ]
  },
  {
   "cell_type": "code",
   "execution_count": 3,
   "metadata": {
    "collapsed": false
   },
   "outputs": [
    {
     "data": {
      "text/html": [
       "<div>\n",
       "<table border=\"1\" class=\"dataframe\">\n",
       "  <thead>\n",
       "    <tr style=\"text-align: right;\">\n",
       "      <th></th>\n",
       "      <th>Ano</th>\n",
       "      <th>Idade</th>\n",
       "      <th>Motivo/Situação</th>\n",
       "      <th>Sexo</th>\n",
       "      <th>Qte_Acidentes</th>\n",
       "      <th>Situação</th>\n",
       "    </tr>\n",
       "  </thead>\n",
       "  <tbody>\n",
       "    <tr>\n",
       "      <th>15</th>\n",
       "      <td>1997</td>\n",
       "      <td>40 a 44 Anos</td>\n",
       "      <td>Típico-Com Cat</td>\n",
       "      <td>Masculino</td>\n",
       "      <td>11108</td>\n",
       "      <td>Com Cat Registrada</td>\n",
       "    </tr>\n",
       "    <tr>\n",
       "      <th>16</th>\n",
       "      <td>1997</td>\n",
       "      <td>40 a 44 Anos</td>\n",
       "      <td>Típico-Com Cat</td>\n",
       "      <td>Feminino</td>\n",
       "      <td>2065</td>\n",
       "      <td>Com Cat Registrada</td>\n",
       "    </tr>\n",
       "    <tr>\n",
       "      <th>17</th>\n",
       "      <td>1997</td>\n",
       "      <td>40 a 44 Anos</td>\n",
       "      <td>Típico-Com Cat</td>\n",
       "      <td>Ignorado</td>\n",
       "      <td>22022</td>\n",
       "      <td>Com Cat Registrada</td>\n",
       "    </tr>\n",
       "    <tr>\n",
       "      <th>18</th>\n",
       "      <td>1997</td>\n",
       "      <td>45 a 49 Anos</td>\n",
       "      <td>Típico-Com Cat</td>\n",
       "      <td>Masculino</td>\n",
       "      <td>7762</td>\n",
       "      <td>Com Cat Registrada</td>\n",
       "    </tr>\n",
       "    <tr>\n",
       "      <th>19</th>\n",
       "      <td>1997</td>\n",
       "      <td>45 a 49 Anos</td>\n",
       "      <td>Típico-Com Cat</td>\n",
       "      <td>Feminino</td>\n",
       "      <td>1552</td>\n",
       "      <td>Com Cat Registrada</td>\n",
       "    </tr>\n",
       "    <tr>\n",
       "      <th>20</th>\n",
       "      <td>1997</td>\n",
       "      <td>45 a 49 Anos</td>\n",
       "      <td>Típico-Com Cat</td>\n",
       "      <td>Ignorado</td>\n",
       "      <td>14448</td>\n",
       "      <td>Com Cat Registrada</td>\n",
       "    </tr>\n",
       "    <tr>\n",
       "      <th>21</th>\n",
       "      <td>1997</td>\n",
       "      <td>50 a 54 Anos</td>\n",
       "      <td>Típico-Com Cat</td>\n",
       "      <td>Masculino</td>\n",
       "      <td>4831</td>\n",
       "      <td>Com Cat Registrada</td>\n",
       "    </tr>\n",
       "    <tr>\n",
       "      <th>22</th>\n",
       "      <td>1997</td>\n",
       "      <td>50 a 54 Anos</td>\n",
       "      <td>Típico-Com Cat</td>\n",
       "      <td>Feminino</td>\n",
       "      <td>1035</td>\n",
       "      <td>Com Cat Registrada</td>\n",
       "    </tr>\n",
       "    <tr>\n",
       "      <th>23</th>\n",
       "      <td>1997</td>\n",
       "      <td>50 a 54 Anos</td>\n",
       "      <td>Típico-Com Cat</td>\n",
       "      <td>Ignorado</td>\n",
       "      <td>8144</td>\n",
       "      <td>Com Cat Registrada</td>\n",
       "    </tr>\n",
       "    <tr>\n",
       "      <th>24</th>\n",
       "      <td>1997</td>\n",
       "      <td>55 a 59 Anos</td>\n",
       "      <td>Típico-Com Cat</td>\n",
       "      <td>Masculino</td>\n",
       "      <td>2827</td>\n",
       "      <td>Com Cat Registrada</td>\n",
       "    </tr>\n",
       "    <tr>\n",
       "      <th>25</th>\n",
       "      <td>1997</td>\n",
       "      <td>55 a 59 Anos</td>\n",
       "      <td>Típico-Com Cat</td>\n",
       "      <td>Feminino</td>\n",
       "      <td>437</td>\n",
       "      <td>Com Cat Registrada</td>\n",
       "    </tr>\n",
       "    <tr>\n",
       "      <th>26</th>\n",
       "      <td>1997</td>\n",
       "      <td>55 a 59 Anos</td>\n",
       "      <td>Típico-Com Cat</td>\n",
       "      <td>Ignorado</td>\n",
       "      <td>4225</td>\n",
       "      <td>Com Cat Registrada</td>\n",
       "    </tr>\n",
       "    <tr>\n",
       "      <th>27</th>\n",
       "      <td>1997</td>\n",
       "      <td>60 a 64 Anos</td>\n",
       "      <td>Típico-Com Cat</td>\n",
       "      <td>Masculino</td>\n",
       "      <td>1076</td>\n",
       "      <td>Com Cat Registrada</td>\n",
       "    </tr>\n",
       "    <tr>\n",
       "      <th>28</th>\n",
       "      <td>1997</td>\n",
       "      <td>60 a 64 Anos</td>\n",
       "      <td>Típico-Com Cat</td>\n",
       "      <td>Feminino</td>\n",
       "      <td>77</td>\n",
       "      <td>Com Cat Registrada</td>\n",
       "    </tr>\n",
       "    <tr>\n",
       "      <th>29</th>\n",
       "      <td>1997</td>\n",
       "      <td>60 a 64 Anos</td>\n",
       "      <td>Típico-Com Cat</td>\n",
       "      <td>Ignorado</td>\n",
       "      <td>1954</td>\n",
       "      <td>Com Cat Registrada</td>\n",
       "    </tr>\n",
       "    <tr>\n",
       "      <th>30</th>\n",
       "      <td>1997</td>\n",
       "      <td>65 a 69 Anos</td>\n",
       "      <td>Típico-Com Cat</td>\n",
       "      <td>Masculino</td>\n",
       "      <td>155</td>\n",
       "      <td>Com Cat Registrada</td>\n",
       "    </tr>\n",
       "    <tr>\n",
       "      <th>31</th>\n",
       "      <td>1997</td>\n",
       "      <td>65 a 69 Anos</td>\n",
       "      <td>Típico-Com Cat</td>\n",
       "      <td>Feminino</td>\n",
       "      <td>13</td>\n",
       "      <td>Com Cat Registrada</td>\n",
       "    </tr>\n",
       "    <tr>\n",
       "      <th>32</th>\n",
       "      <td>1997</td>\n",
       "      <td>65 a 69 Anos</td>\n",
       "      <td>Típico-Com Cat</td>\n",
       "      <td>Ignorado</td>\n",
       "      <td>684</td>\n",
       "      <td>Com Cat Registrada</td>\n",
       "    </tr>\n",
       "    <tr>\n",
       "      <th>33</th>\n",
       "      <td>1997</td>\n",
       "      <td>70 Anos e Mais</td>\n",
       "      <td>Típico-Com Cat</td>\n",
       "      <td>Masculino</td>\n",
       "      <td>25</td>\n",
       "      <td>Com Cat Registrada</td>\n",
       "    </tr>\n",
       "    <tr>\n",
       "      <th>34</th>\n",
       "      <td>1997</td>\n",
       "      <td>70 Anos e Mais</td>\n",
       "      <td>Típico-Com Cat</td>\n",
       "      <td>Feminino</td>\n",
       "      <td>1</td>\n",
       "      <td>Com Cat Registrada</td>\n",
       "    </tr>\n",
       "    <tr>\n",
       "      <th>35</th>\n",
       "      <td>1997</td>\n",
       "      <td>70 Anos e Mais</td>\n",
       "      <td>Típico-Com Cat</td>\n",
       "      <td>Ignorado</td>\n",
       "      <td>251</td>\n",
       "      <td>Com Cat Registrada</td>\n",
       "    </tr>\n",
       "    <tr>\n",
       "      <th>36</th>\n",
       "      <td>1997</td>\n",
       "      <td>Ignorada</td>\n",
       "      <td>Típico-Com Cat</td>\n",
       "      <td>Masculino</td>\n",
       "      <td>4252</td>\n",
       "      <td>Com Cat Registrada</td>\n",
       "    </tr>\n",
       "    <tr>\n",
       "      <th>37</th>\n",
       "      <td>1997</td>\n",
       "      <td>Ignorada</td>\n",
       "      <td>Típico-Com Cat</td>\n",
       "      <td>Feminino</td>\n",
       "      <td>761</td>\n",
       "      <td>Com Cat Registrada</td>\n",
       "    </tr>\n",
       "    <tr>\n",
       "      <th>38</th>\n",
       "      <td>1997</td>\n",
       "      <td>Ignorada</td>\n",
       "      <td>Típico-Com Cat</td>\n",
       "      <td>Ignorado</td>\n",
       "      <td>11761</td>\n",
       "      <td>Com Cat Registrada</td>\n",
       "    </tr>\n",
       "    <tr>\n",
       "      <th>39</th>\n",
       "      <td>1997</td>\n",
       "      <td>Até 19 Anos</td>\n",
       "      <td>Trajeto-Com Cat</td>\n",
       "      <td>Masculino</td>\n",
       "      <td>1062</td>\n",
       "      <td>Com Cat Registrada</td>\n",
       "    </tr>\n",
       "  </tbody>\n",
       "</table>\n",
       "</div>"
      ],
      "text/plain": [
       "     Ano           Idade  Motivo/Situação       Sexo Qte_Acidentes  \\\n",
       "15  1997    40 a 44 Anos   Típico-Com Cat  Masculino         11108   \n",
       "16  1997    40 a 44 Anos   Típico-Com Cat   Feminino          2065   \n",
       "17  1997    40 a 44 Anos   Típico-Com Cat   Ignorado         22022   \n",
       "18  1997    45 a 49 Anos   Típico-Com Cat  Masculino          7762   \n",
       "19  1997    45 a 49 Anos   Típico-Com Cat   Feminino          1552   \n",
       "20  1997    45 a 49 Anos   Típico-Com Cat   Ignorado         14448   \n",
       "21  1997    50 a 54 Anos   Típico-Com Cat  Masculino          4831   \n",
       "22  1997    50 a 54 Anos   Típico-Com Cat   Feminino          1035   \n",
       "23  1997    50 a 54 Anos   Típico-Com Cat   Ignorado          8144   \n",
       "24  1997    55 a 59 Anos   Típico-Com Cat  Masculino          2827   \n",
       "25  1997    55 a 59 Anos   Típico-Com Cat   Feminino           437   \n",
       "26  1997    55 a 59 Anos   Típico-Com Cat   Ignorado          4225   \n",
       "27  1997    60 a 64 Anos   Típico-Com Cat  Masculino          1076   \n",
       "28  1997    60 a 64 Anos   Típico-Com Cat   Feminino            77   \n",
       "29  1997    60 a 64 Anos   Típico-Com Cat   Ignorado          1954   \n",
       "30  1997    65 a 69 Anos   Típico-Com Cat  Masculino           155   \n",
       "31  1997    65 a 69 Anos   Típico-Com Cat   Feminino            13   \n",
       "32  1997    65 a 69 Anos   Típico-Com Cat   Ignorado           684   \n",
       "33  1997  70 Anos e Mais   Típico-Com Cat  Masculino            25   \n",
       "34  1997  70 Anos e Mais   Típico-Com Cat   Feminino             1   \n",
       "35  1997  70 Anos e Mais   Típico-Com Cat   Ignorado           251   \n",
       "36  1997        Ignorada   Típico-Com Cat  Masculino          4252   \n",
       "37  1997        Ignorada   Típico-Com Cat   Feminino           761   \n",
       "38  1997        Ignorada   Típico-Com Cat   Ignorado         11761   \n",
       "39  1997     Até 19 Anos  Trajeto-Com Cat  Masculino          1062   \n",
       "\n",
       "              Situação  \n",
       "15  Com Cat Registrada  \n",
       "16  Com Cat Registrada  \n",
       "17  Com Cat Registrada  \n",
       "18  Com Cat Registrada  \n",
       "19  Com Cat Registrada  \n",
       "20  Com Cat Registrada  \n",
       "21  Com Cat Registrada  \n",
       "22  Com Cat Registrada  \n",
       "23  Com Cat Registrada  \n",
       "24  Com Cat Registrada  \n",
       "25  Com Cat Registrada  \n",
       "26  Com Cat Registrada  \n",
       "27  Com Cat Registrada  \n",
       "28  Com Cat Registrada  \n",
       "29  Com Cat Registrada  \n",
       "30  Com Cat Registrada  \n",
       "31  Com Cat Registrada  \n",
       "32  Com Cat Registrada  \n",
       "33  Com Cat Registrada  \n",
       "34  Com Cat Registrada  \n",
       "35  Com Cat Registrada  \n",
       "36  Com Cat Registrada  \n",
       "37  Com Cat Registrada  \n",
       "38  Com Cat Registrada  \n",
       "39  Com Cat Registrada  "
      ]
     },
     "execution_count": 3,
     "metadata": {},
     "output_type": "execute_result"
    }
   ],
   "source": [
    "dados = pd.read_csv('ACT03.csv',encoding='windows-1252', sep=',')\n",
    "dados.iloc[15:40]"
   ]
  },
  {
   "cell_type": "code",
   "execution_count": 8,
   "metadata": {
    "collapsed": true
   },
   "outputs": [],
   "source": [
    "dados=dados.rename(columns = {'Qte Acidentes':'Qte_Acidentes'})\n",
    "dados.Qte_Acidentes = dados.Qte_Acidentes[dados.Qte_Acidentes != \"-\"]"
   ]
  },
  {
   "cell_type": "code",
   "execution_count": 14,
   "metadata": {
    "collapsed": false
   },
   "outputs": [
    {
     "data": {
      "text/plain": [
       "0        7581.0\n",
       "1        1061.0\n",
       "2       18851.0\n",
       "3       15847.0\n",
       "4        1934.0\n",
       "5       46188.0\n",
       "6       15443.0\n",
       "7        2158.0\n",
       "8       40910.0\n",
       "9       14670.0\n",
       "10       2247.0\n",
       "11      35319.0\n",
       "12      13028.0\n",
       "13       2373.0\n",
       "14      28406.0\n",
       "15      11108.0\n",
       "16       2065.0\n",
       "17      22022.0\n",
       "18       7762.0\n",
       "19       1552.0\n",
       "20      14448.0\n",
       "21       4831.0\n",
       "22       1035.0\n",
       "23       8144.0\n",
       "24       2827.0\n",
       "25        437.0\n",
       "26       4225.0\n",
       "27       1076.0\n",
       "28         77.0\n",
       "29       1954.0\n",
       "         ...   \n",
       "7364      121.0\n",
       "7365        1.0\n",
       "7366      416.0\n",
       "7367       91.0\n",
       "7368      339.0\n",
       "7369        1.0\n",
       "7370       67.0\n",
       "7371      161.0\n",
       "7372       39.0\n",
       "7373       55.0\n",
       "7374       23.0\n",
       "7375       34.0\n",
       "7376       11.0\n",
       "7377       30.0\n",
       "7378        1.0\n",
       "7379       14.0\n",
       "7380       10.0\n",
       "7381       12.0\n",
       "7382        6.0\n",
       "7383       11.0\n",
       "7384        4.0\n",
       "7385        5.0\n",
       "7386        1.0\n",
       "7387        2.0\n",
       "7388        2.0\n",
       "7389        2.0\n",
       "7390        2.0\n",
       "7391        1.0\n",
       "7392        1.0\n",
       "7393        NaN\n",
       "Name: Qte_Acidentes, dtype: float64"
      ]
     },
     "execution_count": 14,
     "metadata": {},
     "output_type": "execute_result"
    }
   ],
   "source": [
    "dados.Qte_Acidentes = dados.Qte_Acidentes.astype('float')\n",
    "#Caso = dados[(dados.Sexo == \"Masculino\") & (dados[\"Motivo/Situação\"] == \"Típico-Com Cat\") &  (dados.Situação == \"Com Cat Registrada\")]\n",
    "Caso2 = dados.Qte_Acidentes\n",
    "Caso2.shape\n",
    "#Caso.Qte_Acidentes = Caso.Qte_Acidentes.astype('float')\n",
    "Casoqq = pd.Series(data=sorted(Caso2))\n",
    "Caso2"
   ]
  },
  {
   "cell_type": "code",
   "execution_count": 17,
   "metadata": {
    "collapsed": false,
    "scrolled": false
   },
   "outputs": [
    {
     "data": {
      "text/plain": [
       "<matplotlib.axes._subplots.AxesSubplot at 0xb241763780>"
      ]
     },
     "execution_count": 17,
     "metadata": {},
     "output_type": "execute_result"
    },
    {
     "data": {
      "image/png": "[encoded data removed]",
      "text/plain": [
       "<matplotlib.figure.Figure at 0xb24176d6a0>"
      ]
     },
     "metadata": {},
     "output_type": "display_data"
    }
   ],
   "source": [
    "x = np.linspace(0, 7151, 7151)\n",
    "\n",
    "s = Caso2[(Caso2< 9000) ].hist(normed = True)\n",
    "\n",
    "\n",
    "#k_gamma = 1.1\n",
    "#k_gamma2 = 1.3\n",
    "#k_gamma3 = 1.5\n",
    "k_gamma4 = 1.7\n",
    "#k_gamma5 = 1.9\n",
    "\n",
    "#theta_gamma = media/k_gamma\n",
    "#theta_gamma2 = media/k_gamma2\n",
    "#theta_gamma3 = media/k_gamma3\n",
    "theta_gamma4 = media/k_gamma4\n",
    "#theta_gamma5 = media/k_gamma5\n",
    "\n",
    "#gamma = stats.gamma.pdf(x, scale=theta_gamma, loc=0, a=k_gamma)\n",
    "#gamma2 = stats.gamma.pdf(x, scale=theta_gamma2, loc=0, a=k_gamma2)\n",
    "#gamma3 = stats.gamma.pdf(x, scale=theta_gamma3, loc=0, a=k_gamma3)\n",
    "gamma4 = stats.gamma.pdf(x, scale=theta_gamma4, loc=0, a=k_gamma4)\n",
    "#gamma5 = stats.gamma.pdf(x, scale=theta_gamma5, loc=0, a=k_gamma5)\n",
    "\n",
    "\n",
    "#plt.plot(x, gamma, '-', color='green', label=\"Gamma\")\n",
    "#plt.plot(x, gamma2, '-', color='green', label=\"Gamma\")\n",
    "#plt.plot(x, gamma3, '-', color='green', label=\"Gamma\")\n",
    "plt.plot(x, gamma4, '-', color='green', label=\"Gamma\")\n",
    "#plt.plot(x, gamma5, '-', color='green', label=\"Gamma\")\n",
    "\n",
    "\n",
    "exponencial = stats.expon.pdf(x, scale=media)\n",
    "\n",
    "\n",
    "plt.plot(x, exponencial, '-', color='red', label=\"Exponencial\")\n",
    "s"
   ]
  },
  {
   "cell_type": "markdown",
   "metadata": {},
   "source": [
    "### Após testar algumas variáveis o gamma que chegou mais perto foi o gamma4, quando k_gamma = 1.7"
   ]
  },
  {
   "cell_type": "code",
   "execution_count": 18,
   "metadata": {
    "collapsed": false
   },
   "outputs": [
    {
     "name": "stdout",
     "output_type": "stream",
     "text": [
      "819.512236050902\n",
      "2035671.0214906046\n",
      "1426.7694352945064\n",
      "[  0.00000000e+00   1.00013986e+00   2.00027972e+00 ...,   7.14899972e+03\n",
      "   7.14999986e+03   7.15100000e+03]\n"
     ]
    }
   ],
   "source": [
    "#print(max(dados.Qte_Acidentes[dados.Ano == '1997']))\n",
    "s = Caso2[Caso2<9000]\n",
    "media = Caso2[Caso2 < 9000].mean()\n",
    "var= np.var(s)\n",
    "desvpad = np.std(s)\n",
    "print(media)\n",
    "print(var)\n",
    "print(desvpad)\n",
    "print(x)"
   ]
  },
  {
   "cell_type": "markdown",
   "metadata": {
    "collapsed": true
   },
   "source": [
    "___\n",
    "### Itens 4 a 6 - Resolução:"
   ]
  },
  {
   "cell_type": "code",
   "execution_count": 19,
   "metadata": {
    "collapsed": false
   },
   "outputs": [],
   "source": [
    "a,loc0,scale0 = stats.gamma.fit(s, loc=media, scale=desvpad)\n",
    "#retorna a, loc e scale"
   ]
  },
  {
   "cell_type": "code",
   "execution_count": 20,
   "metadata": {
    "collapsed": false
   },
   "outputs": [],
   "source": [
    "loc1,scale1 = stats.expon.fit(s,loc=media,scale=desvpad)\n",
    "#retorna loc e scale"
   ]
  },
  {
   "cell_type": "markdown",
   "metadata": {
    "collapsed": true
   },
   "source": [
    "___\n",
    "### Itens 7 a 9 - Resolução:"
   ]
  },
  {
   "cell_type": "code",
   "execution_count": 21,
   "metadata": {
    "collapsed": false
   },
   "outputs": [
    {
     "data": {
      "text/plain": [
       "[<matplotlib.lines.Line2D at 0xb2418d1ef0>]"
      ]
     },
     "execution_count": 21,
     "metadata": {},
     "output_type": "execute_result"
    },
    {
     "data": {
      "image/png": "[encoded data removed]",
      "text/plain": [
       "<matplotlib.figure.Figure at 0xb241776978>"
      ]
     },
     "metadata": {},
     "output_type": "display_data"
    }
   ],
   "source": [
    "plt.plot(x,stats.gamma.pdf(s,a,loc0,scale0),\"-\",color = \"green\", label = \"gamma\")\n"
   ]
  },
  {
   "cell_type": "code",
   "execution_count": 22,
   "metadata": {
    "collapsed": false
   },
   "outputs": [
    {
     "data": {
      "text/plain": [
       "[<matplotlib.lines.Line2D at 0xb241a4aac8>]"
      ]
     },
     "execution_count": 22,
     "metadata": {},
     "output_type": "execute_result"
    },
    {
     "data": {
      "image/png": "[encoded data removed]",
      "text/plain": [
       "<matplotlib.figure.Figure at 0xb2417e8a58>"
      ]
     },
     "metadata": {},
     "output_type": "display_data"
    }
   ],
   "source": [
    "e = stats.expon.pdf(x,loc=media,scale=desvpad)\n",
    "plt.plot(x,stats.expon.pdf(x,loc=media,scale=desvpad),\"-\",color = \"green\", label = \"gamma\")"
   ]
  },
  {
   "cell_type": "code",
   "execution_count": 26,
   "metadata": {
    "collapsed": false
   },
   "outputs": [
    {
     "data": {
      "image/png": "[encoded data removed]",
      "text/plain": [
       "<matplotlib.figure.Figure at 0xb24191eac8>"
      ]
     },
     "metadata": {},
     "output_type": "display_data"
    }
   ],
   "source": [
    "fra = [] # frequencia relativa acumulada\n",
    "for i in range(len(Casoqq)):\n",
    "    acc = (i - 0.5) / len(Casoqq)\n",
    "    if acc < 0:\n",
    "        acc = 0\n",
    "    fra.append(acc) # ver Magalhães e Lima (pag. 195)\n",
    "\n",
    "# Convertemos fra em uma Series do Pandas\n",
    "fra = pd.Series(data=fra)\n",
    "\n",
    "# Gera os valores dos quantis teóricos para as distribuições analisadas\n",
    "q_exp = stats.expon.ppf(fra, scale=media) # quantis teóricos da exponencial\n",
    "q_gamma = stats.gamma.ppf(fra, scale=theta_gamma4, loc=0, a=k_gamma4)\n",
    "\n",
    "\n",
    "fig = plt.figure(figsize=(12,8))\n",
    "\n",
    "plt.title(\"Q-Q plot: Dados x Exponencial x Gamma\")\n",
    "\n",
    "exp_plot, = plt.plot(Casoqq, q_exp, 'o', color=\"red\", label=\"Exponencial\")\n",
    "gamma_plot, = plt.plot(Casoqq, q_gamma, 'o', color=\"green\", label = \"Gamma\")\n",
    "\n",
    "plt.legend(handles=[exp_plot, gamma_plot])\n",
    "plt.plot((min(Casoqq), max(Casoqq)), (min(Casoqq), max(Casoqq)), '-')\n",
    "\n",
    "\n",
    "for i in range(len(Casoqq)):\n",
    "    plt.plot((Casoqq[i], Casoqq[i]), (q_exp[i], Casoqq[i]), '-', color='red', alpha=0.3  )\n",
    "    plt.plot((Casoqq[i], Casoqq[i]), (q_gamma[i], Casoqq[i]), '-', color='green', alpha=0.3  )\n"
   ]
  },
  {
   "cell_type": "code",
   "execution_count": 29,
   "metadata": {
    "collapsed": false
   },
   "outputs": [
    {
     "ename": "KeyboardInterrupt",
     "evalue": "",
     "output_type": "error",
     "traceback": [
      "\u001b[0;31m---------------------------------------------------------------------------\u001b[0m",
      "\u001b[0;31mKeyboardInterrupt\u001b[0m                         Traceback (most recent call last)",
      "\u001b[0;32m<ipython-input-29-bc14ba844274>\u001b[0m in \u001b[0;36m<module>\u001b[0;34m()\u001b[0m\n\u001b[1;32m      3\u001b[0m \u001b[0;34m\u001b[0m\u001b[0m\n\u001b[1;32m      4\u001b[0m \u001b[0;32mfor\u001b[0m \u001b[0mi\u001b[0m \u001b[0;32min\u001b[0m \u001b[0mx\u001b[0m\u001b[0;34m:\u001b[0m\u001b[0;34m\u001b[0m\u001b[0m\n\u001b[0;32m----> 5\u001b[0;31m     \u001b[0mv1\u001b[0m \u001b[0;34m=\u001b[0m \u001b[0mstats\u001b[0m\u001b[0;34m.\u001b[0m\u001b[0mgamma\u001b[0m\u001b[0;34m.\u001b[0m\u001b[0mcdf\u001b[0m\u001b[0;34m(\u001b[0m\u001b[0ms\u001b[0m\u001b[0;34m,\u001b[0m\u001b[0ma\u001b[0m\u001b[0;34m,\u001b[0m \u001b[0mloc\u001b[0m\u001b[0;34m=\u001b[0m\u001b[0mmedia\u001b[0m\u001b[0;34m,\u001b[0m \u001b[0mscale\u001b[0m\u001b[0;34m=\u001b[0m\u001b[0mdesvpad\u001b[0m\u001b[0;34m)\u001b[0m\u001b[0;34m\u001b[0m\u001b[0m\n\u001b[0m\u001b[1;32m      6\u001b[0m     \u001b[0mv2\u001b[0m \u001b[0;34m=\u001b[0m \u001b[0mstats\u001b[0m\u001b[0;34m.\u001b[0m\u001b[0mexpon\u001b[0m\u001b[0;34m.\u001b[0m\u001b[0mcdf\u001b[0m\u001b[0;34m(\u001b[0m\u001b[0ms\u001b[0m\u001b[0;34m,\u001b[0m \u001b[0mloc\u001b[0m\u001b[0;34m=\u001b[0m\u001b[0mmedia\u001b[0m\u001b[0;34m,\u001b[0m \u001b[0mscale\u001b[0m\u001b[0;34m=\u001b[0m\u001b[0mdesvpad\u001b[0m\u001b[0;34m)\u001b[0m\u001b[0;34m\u001b[0m\u001b[0m\n\u001b[1;32m      7\u001b[0m \u001b[0;34m\u001b[0m\u001b[0m\n",
      "\u001b[0;31mKeyboardInterrupt\u001b[0m: "
     ]
    }
   ],
   "source": [
    "l_gamma = []\n",
    "l_exp = []\n",
    "\n",
    "for i in x:\n",
    "    v1 = stats.gamma.cdf(s,a, loc=media, scale=desvpad)\n",
    "    v2 = stats.expon.cdf(s, loc=media, scale=desvpad)\n",
    "\n",
    "    l_gamma.append(v1)\n",
    "    l_exp.append(v2)\n",
    "    \n",
    "    \n",
    "#plt.plot(s,fra,'-',color = \"green\")\n",
    "plt.plot(x,l_gamma,'-',color = \"blue\")\n",
    "plt.plot(x,l_exp,'-', color = \"red\")"
   ]
  },
  {
   "cell_type": "code",
   "execution_count": 262,
   "metadata": {
    "collapsed": false
   },
   "outputs": [
    {
     "data": {
      "text/plain": [
       "7394"
      ]
     },
     "execution_count": 262,
     "metadata": {},
     "output_type": "execute_result"
    }
   ],
   "source": [
    "len(fra)"
   ]
  },
  {
   "cell_type": "markdown",
   "metadata": {},
   "source": [
    "___\n",
    "### Itens 10 e 11 - Resolução:"
   ]
  },
  {
   "cell_type": "code",
   "execution_count": 255,
   "metadata": {
    "collapsed": false
   },
   "outputs": [
    {
     "data": {
      "image/png": "[encoded data removed]",
      "text/plain": [
       "<matplotlib.figure.Figure at 0xe9f6e9b048>"
      ]
     },
     "metadata": {},
     "output_type": "display_data"
    }
   ],
   "source": [
    "cdf_exponencial = stats.expon.cdf(Casoqq, scale=media) #FDA\n",
    "cdf_gamma = stats.gamma.cdf(Casoqq, scale=theta_gamma4, loc=0, a=k_gamma4)\n",
    "\n",
    "\n",
    "fig = plt.figure(figsize=(12,8))\n",
    "\n",
    "plt.title(\"Cumulativa: Dados x Exponencial x Gamma\")\n",
    "\n",
    "dados_fra_plot, = plt.plot(Casoqq, fra, '-', color='blue', label=\"F.R.A dos dados\")\n",
    "cdf_exp_plot,   = plt.plot(Casoqq, cdf_exponencial, '-', color='red', label = \"Cumulativa da exponencial\")\n",
    "cdf_gamma_plot, = plt.plot(Casoqq, cdf_gamma, '-', color='green', label = \"Cumulativa da distribuição Gamma\")\n",
    "\n",
    "plt.legend(handles=[dados_fra_plot, cdf_exp_plot, cdf_gamma_plot])\n",
    "\n",
    "\n",
    "for i in range(len(Casoqq)):\n",
    "    plt.plot((Casoqq[i], Casoqq[i]), (fra[i], cdf_exponencial[i]), ':', color=\"red\", alpha=0.3)\n",
    "    #Omitido para não poluir muito o gráfico\n",
    "    plt.plot((Casoqq[i], Casoqq[i]), (fra[i], cdf_gamma[i]), '--', color=\"green\", alpha=0.3)\n",
    "    "
   ]
  },
  {
   "cell_type": "code",
   "execution_count": null,
   "metadata": {
    "collapsed": true
   },
   "outputs": [],
   "source": []
  }
 ],
 "metadata": {
  "anaconda-cloud": {},
  "kernelspec": {
   "display_name": "Python 3",
   "language": "python",
   "name": "python3"
  },
  "language_info": {
   "codemirror_mode": {
    "name": "ipython",
    "version": 3
   },
   "file_extension": ".py",
   "mimetype": "text/x-python",
   "name": "python",
   "nbconvert_exporter": "python",
   "pygments_lexer": "ipython3",
   "version": "3.5.2"
  }
 },
 "nbformat": 4,
 "nbformat_minor": 0
}
