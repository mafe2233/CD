{
 "cells": [
  {
   "cell_type": "markdown",
   "metadata": {},
   "source": [
    "___\n",
    "# MINIPROJETO 1"
   ]
  },
  {
   "cell_type": "markdown",
   "metadata": {},
   "source": [
    "## <font color='red'>Pedro Garcia</font>\n",
    "___"
   ]
  },
  {
   "cell_type": "markdown",
   "metadata": {},
   "source": [
    "## <font color='blue'>Quantidade de acidentes no trabalho</font>"
   ]
  },
  {
   "cell_type": "markdown",
   "metadata": {},
   "source": [
    "___\n",
    "### Itens 1 a 3 - Resolução:"
   ]
  },
  {
   "cell_type": "code",
   "execution_count": 73,
   "metadata": {
    "collapsed": false
   },
   "outputs": [
    {
     "name": "stdout",
     "output_type": "stream",
     "text": [
      "Esperamos trabalhar no diretório\n",
      "C:\\Users\\pedro\\Documents\\facul\\segundo semestre\\Ciencia dos dados\\CDEng\\meu github\\CD\\Mini_Projeto1\n"
     ]
    }
   ],
   "source": [
    "%matplotlib inline\n",
    "import pandas as pd\n",
    "import matplotlib.pyplot as plt\n",
    "import numpy as np\n",
    "import os\n",
    "from scipy import stats\n",
    "\n",
    "print('Esperamos trabalhar no diretório')\n",
    "print(os.getcwd())"
   ]
  },
  {
   "cell_type": "code",
   "execution_count": 74,
   "metadata": {
    "collapsed": true
   },
   "outputs": [],
   "source": [
    "dados=dados.rename(columns = {'Qte Acidentes':'Qte_Acidentes'})"
   ]
  },
  {
   "cell_type": "code",
   "execution_count": 75,
   "metadata": {
    "collapsed": false
   },
   "outputs": [
    {
     "data": {
      "text/html": [
       "<div>\n",
       "<table border=\"1\" class=\"dataframe\">\n",
       "  <thead>\n",
       "    <tr style=\"text-align: right;\">\n",
       "      <th></th>\n",
       "      <th>Ano</th>\n",
       "      <th>Idade</th>\n",
       "      <th>Motivo/Situação</th>\n",
       "      <th>Sexo</th>\n",
       "      <th>Qte_Acidentes</th>\n",
       "      <th>Situação</th>\n",
       "    </tr>\n",
       "  </thead>\n",
       "  <tbody>\n",
       "    <tr>\n",
       "      <th>15</th>\n",
       "      <td>1997</td>\n",
       "      <td>40 a 44 Anos</td>\n",
       "      <td>Típico-Com Cat</td>\n",
       "      <td>Masculino</td>\n",
       "      <td>11108</td>\n",
       "      <td>Com Cat Registrada</td>\n",
       "    </tr>\n",
       "    <tr>\n",
       "      <th>16</th>\n",
       "      <td>1997</td>\n",
       "      <td>40 a 44 Anos</td>\n",
       "      <td>Típico-Com Cat</td>\n",
       "      <td>Feminino</td>\n",
       "      <td>2065</td>\n",
       "      <td>Com Cat Registrada</td>\n",
       "    </tr>\n",
       "    <tr>\n",
       "      <th>17</th>\n",
       "      <td>1997</td>\n",
       "      <td>40 a 44 Anos</td>\n",
       "      <td>Típico-Com Cat</td>\n",
       "      <td>Ignorado</td>\n",
       "      <td>22022</td>\n",
       "      <td>Com Cat Registrada</td>\n",
       "    </tr>\n",
       "    <tr>\n",
       "      <th>18</th>\n",
       "      <td>1997</td>\n",
       "      <td>45 a 49 Anos</td>\n",
       "      <td>Típico-Com Cat</td>\n",
       "      <td>Masculino</td>\n",
       "      <td>7762</td>\n",
       "      <td>Com Cat Registrada</td>\n",
       "    </tr>\n",
       "    <tr>\n",
       "      <th>19</th>\n",
       "      <td>1997</td>\n",
       "      <td>45 a 49 Anos</td>\n",
       "      <td>Típico-Com Cat</td>\n",
       "      <td>Feminino</td>\n",
       "      <td>1552</td>\n",
       "      <td>Com Cat Registrada</td>\n",
       "    </tr>\n",
       "    <tr>\n",
       "      <th>20</th>\n",
       "      <td>1997</td>\n",
       "      <td>45 a 49 Anos</td>\n",
       "      <td>Típico-Com Cat</td>\n",
       "      <td>Ignorado</td>\n",
       "      <td>14448</td>\n",
       "      <td>Com Cat Registrada</td>\n",
       "    </tr>\n",
       "    <tr>\n",
       "      <th>21</th>\n",
       "      <td>1997</td>\n",
       "      <td>50 a 54 Anos</td>\n",
       "      <td>Típico-Com Cat</td>\n",
       "      <td>Masculino</td>\n",
       "      <td>4831</td>\n",
       "      <td>Com Cat Registrada</td>\n",
       "    </tr>\n",
       "    <tr>\n",
       "      <th>22</th>\n",
       "      <td>1997</td>\n",
       "      <td>50 a 54 Anos</td>\n",
       "      <td>Típico-Com Cat</td>\n",
       "      <td>Feminino</td>\n",
       "      <td>1035</td>\n",
       "      <td>Com Cat Registrada</td>\n",
       "    </tr>\n",
       "    <tr>\n",
       "      <th>23</th>\n",
       "      <td>1997</td>\n",
       "      <td>50 a 54 Anos</td>\n",
       "      <td>Típico-Com Cat</td>\n",
       "      <td>Ignorado</td>\n",
       "      <td>8144</td>\n",
       "      <td>Com Cat Registrada</td>\n",
       "    </tr>\n",
       "    <tr>\n",
       "      <th>24</th>\n",
       "      <td>1997</td>\n",
       "      <td>55 a 59 Anos</td>\n",
       "      <td>Típico-Com Cat</td>\n",
       "      <td>Masculino</td>\n",
       "      <td>2827</td>\n",
       "      <td>Com Cat Registrada</td>\n",
       "    </tr>\n",
       "    <tr>\n",
       "      <th>25</th>\n",
       "      <td>1997</td>\n",
       "      <td>55 a 59 Anos</td>\n",
       "      <td>Típico-Com Cat</td>\n",
       "      <td>Feminino</td>\n",
       "      <td>437</td>\n",
       "      <td>Com Cat Registrada</td>\n",
       "    </tr>\n",
       "    <tr>\n",
       "      <th>26</th>\n",
       "      <td>1997</td>\n",
       "      <td>55 a 59 Anos</td>\n",
       "      <td>Típico-Com Cat</td>\n",
       "      <td>Ignorado</td>\n",
       "      <td>4225</td>\n",
       "      <td>Com Cat Registrada</td>\n",
       "    </tr>\n",
       "    <tr>\n",
       "      <th>27</th>\n",
       "      <td>1997</td>\n",
       "      <td>60 a 64 Anos</td>\n",
       "      <td>Típico-Com Cat</td>\n",
       "      <td>Masculino</td>\n",
       "      <td>1076</td>\n",
       "      <td>Com Cat Registrada</td>\n",
       "    </tr>\n",
       "    <tr>\n",
       "      <th>28</th>\n",
       "      <td>1997</td>\n",
       "      <td>60 a 64 Anos</td>\n",
       "      <td>Típico-Com Cat</td>\n",
       "      <td>Feminino</td>\n",
       "      <td>77</td>\n",
       "      <td>Com Cat Registrada</td>\n",
       "    </tr>\n",
       "    <tr>\n",
       "      <th>29</th>\n",
       "      <td>1997</td>\n",
       "      <td>60 a 64 Anos</td>\n",
       "      <td>Típico-Com Cat</td>\n",
       "      <td>Ignorado</td>\n",
       "      <td>1954</td>\n",
       "      <td>Com Cat Registrada</td>\n",
       "    </tr>\n",
       "    <tr>\n",
       "      <th>30</th>\n",
       "      <td>1997</td>\n",
       "      <td>65 a 69 Anos</td>\n",
       "      <td>Típico-Com Cat</td>\n",
       "      <td>Masculino</td>\n",
       "      <td>155</td>\n",
       "      <td>Com Cat Registrada</td>\n",
       "    </tr>\n",
       "    <tr>\n",
       "      <th>31</th>\n",
       "      <td>1997</td>\n",
       "      <td>65 a 69 Anos</td>\n",
       "      <td>Típico-Com Cat</td>\n",
       "      <td>Feminino</td>\n",
       "      <td>13</td>\n",
       "      <td>Com Cat Registrada</td>\n",
       "    </tr>\n",
       "    <tr>\n",
       "      <th>32</th>\n",
       "      <td>1997</td>\n",
       "      <td>65 a 69 Anos</td>\n",
       "      <td>Típico-Com Cat</td>\n",
       "      <td>Ignorado</td>\n",
       "      <td>684</td>\n",
       "      <td>Com Cat Registrada</td>\n",
       "    </tr>\n",
       "    <tr>\n",
       "      <th>33</th>\n",
       "      <td>1997</td>\n",
       "      <td>70 Anos e Mais</td>\n",
       "      <td>Típico-Com Cat</td>\n",
       "      <td>Masculino</td>\n",
       "      <td>25</td>\n",
       "      <td>Com Cat Registrada</td>\n",
       "    </tr>\n",
       "    <tr>\n",
       "      <th>34</th>\n",
       "      <td>1997</td>\n",
       "      <td>70 Anos e Mais</td>\n",
       "      <td>Típico-Com Cat</td>\n",
       "      <td>Feminino</td>\n",
       "      <td>1</td>\n",
       "      <td>Com Cat Registrada</td>\n",
       "    </tr>\n",
       "    <tr>\n",
       "      <th>35</th>\n",
       "      <td>1997</td>\n",
       "      <td>70 Anos e Mais</td>\n",
       "      <td>Típico-Com Cat</td>\n",
       "      <td>Ignorado</td>\n",
       "      <td>251</td>\n",
       "      <td>Com Cat Registrada</td>\n",
       "    </tr>\n",
       "    <tr>\n",
       "      <th>36</th>\n",
       "      <td>1997</td>\n",
       "      <td>Ignorada</td>\n",
       "      <td>Típico-Com Cat</td>\n",
       "      <td>Masculino</td>\n",
       "      <td>4252</td>\n",
       "      <td>Com Cat Registrada</td>\n",
       "    </tr>\n",
       "    <tr>\n",
       "      <th>37</th>\n",
       "      <td>1997</td>\n",
       "      <td>Ignorada</td>\n",
       "      <td>Típico-Com Cat</td>\n",
       "      <td>Feminino</td>\n",
       "      <td>761</td>\n",
       "      <td>Com Cat Registrada</td>\n",
       "    </tr>\n",
       "    <tr>\n",
       "      <th>38</th>\n",
       "      <td>1997</td>\n",
       "      <td>Ignorada</td>\n",
       "      <td>Típico-Com Cat</td>\n",
       "      <td>Ignorado</td>\n",
       "      <td>11761</td>\n",
       "      <td>Com Cat Registrada</td>\n",
       "    </tr>\n",
       "    <tr>\n",
       "      <th>39</th>\n",
       "      <td>1997</td>\n",
       "      <td>Até 19 Anos</td>\n",
       "      <td>Trajeto-Com Cat</td>\n",
       "      <td>Masculino</td>\n",
       "      <td>1062</td>\n",
       "      <td>Com Cat Registrada</td>\n",
       "    </tr>\n",
       "  </tbody>\n",
       "</table>\n",
       "</div>"
      ],
      "text/plain": [
       "     Ano           Idade  Motivo/Situação       Sexo Qte_Acidentes  \\\n",
       "15  1997    40 a 44 Anos   Típico-Com Cat  Masculino         11108   \n",
       "16  1997    40 a 44 Anos   Típico-Com Cat   Feminino          2065   \n",
       "17  1997    40 a 44 Anos   Típico-Com Cat   Ignorado         22022   \n",
       "18  1997    45 a 49 Anos   Típico-Com Cat  Masculino          7762   \n",
       "19  1997    45 a 49 Anos   Típico-Com Cat   Feminino          1552   \n",
       "20  1997    45 a 49 Anos   Típico-Com Cat   Ignorado         14448   \n",
       "21  1997    50 a 54 Anos   Típico-Com Cat  Masculino          4831   \n",
       "22  1997    50 a 54 Anos   Típico-Com Cat   Feminino          1035   \n",
       "23  1997    50 a 54 Anos   Típico-Com Cat   Ignorado          8144   \n",
       "24  1997    55 a 59 Anos   Típico-Com Cat  Masculino          2827   \n",
       "25  1997    55 a 59 Anos   Típico-Com Cat   Feminino           437   \n",
       "26  1997    55 a 59 Anos   Típico-Com Cat   Ignorado          4225   \n",
       "27  1997    60 a 64 Anos   Típico-Com Cat  Masculino          1076   \n",
       "28  1997    60 a 64 Anos   Típico-Com Cat   Feminino            77   \n",
       "29  1997    60 a 64 Anos   Típico-Com Cat   Ignorado          1954   \n",
       "30  1997    65 a 69 Anos   Típico-Com Cat  Masculino           155   \n",
       "31  1997    65 a 69 Anos   Típico-Com Cat   Feminino            13   \n",
       "32  1997    65 a 69 Anos   Típico-Com Cat   Ignorado           684   \n",
       "33  1997  70 Anos e Mais   Típico-Com Cat  Masculino            25   \n",
       "34  1997  70 Anos e Mais   Típico-Com Cat   Feminino             1   \n",
       "35  1997  70 Anos e Mais   Típico-Com Cat   Ignorado           251   \n",
       "36  1997        Ignorada   Típico-Com Cat  Masculino          4252   \n",
       "37  1997        Ignorada   Típico-Com Cat   Feminino           761   \n",
       "38  1997        Ignorada   Típico-Com Cat   Ignorado         11761   \n",
       "39  1997     Até 19 Anos  Trajeto-Com Cat  Masculino          1062   \n",
       "\n",
       "              Situação  \n",
       "15  Com Cat Registrada  \n",
       "16  Com Cat Registrada  \n",
       "17  Com Cat Registrada  \n",
       "18  Com Cat Registrada  \n",
       "19  Com Cat Registrada  \n",
       "20  Com Cat Registrada  \n",
       "21  Com Cat Registrada  \n",
       "22  Com Cat Registrada  \n",
       "23  Com Cat Registrada  \n",
       "24  Com Cat Registrada  \n",
       "25  Com Cat Registrada  \n",
       "26  Com Cat Registrada  \n",
       "27  Com Cat Registrada  \n",
       "28  Com Cat Registrada  \n",
       "29  Com Cat Registrada  \n",
       "30  Com Cat Registrada  \n",
       "31  Com Cat Registrada  \n",
       "32  Com Cat Registrada  \n",
       "33  Com Cat Registrada  \n",
       "34  Com Cat Registrada  \n",
       "35  Com Cat Registrada  \n",
       "36  Com Cat Registrada  \n",
       "37  Com Cat Registrada  \n",
       "38  Com Cat Registrada  \n",
       "39  Com Cat Registrada  "
      ]
     },
     "execution_count": 75,
     "metadata": {},
     "output_type": "execute_result"
    }
   ],
   "source": [
    "dados = pd.read_csv('ACT03.csv',encoding='windows-1252', sep=',')\n",
    "dados.iloc[15:40]"
   ]
  },
  {
   "cell_type": "code",
   "execution_count": 109,
   "metadata": {
    "collapsed": false
   },
   "outputs": [
    {
     "name": "stderr",
     "output_type": "stream",
     "text": [
      "C:\\Users\\pedro\\Anaconda3\\lib\\site-packages\\pandas\\core\\generic.py:2701: SettingWithCopyWarning: \n",
      "A value is trying to be set on a copy of a slice from a DataFrame.\n",
      "Try using .loc[row_indexer,col_indexer] = value instead\n",
      "\n",
      "See the caveats in the documentation: http://pandas.pydata.org/pandas-docs/stable/indexing.html#indexing-view-versus-copy\n",
      "  self[name] = value\n"
     ]
    }
   ],
   "source": [
    "dados.Qte_Acidentes = dados.Qte_Acidentes.astype('float')\n",
    "Caso = dados[(dados.Sexo == \"Masculino\") & (dados[\"Motivo/Situação\"] == \"Típico-Com Cat\") &  (dados.Situação == \"Com Cat Registrada\")]\n",
    "Caso.shape\n",
    "Caso.Qte_Acidentes = Caso.Qte_Acidentes.astype('float')"
   ]
  },
  {
   "cell_type": "code",
   "execution_count": 134,
   "metadata": {
    "collapsed": false,
    "scrolled": false
   },
   "outputs": [
    {
     "data": {
      "text/plain": [
       "<matplotlib.axes._subplots.AxesSubplot at 0xe9d5e41b70>"
      ]
     },
     "execution_count": 134,
     "metadata": {},
     "output_type": "execute_result"
    },
    {
     "data": {
      "image/png": "[encoded data removed]",
      "text/plain": [
       "<matplotlib.figure.Figure at 0xe9d5e0fd30>"
      ]
     },
     "metadata": {},
     "output_type": "display_data"
    }
   ],
   "source": [
    "\n",
    "#dados.Qte_Acidentes = dados.Qte_Acidentes[dados.Qte_Acidentes != \"-\"]\n",
    "a = Caso.Qte_Acidentes [(Caso.Qte_Acidentes < 20000) ].hist(normed = True)\n",
    "\n",
    "\n",
    "k_gamma = 1.1\n",
    "k_gamma2 = 1.3\n",
    "k_gamma3 = 1.5\n",
    "k_gamma4 = 1.7\n",
    "k_gamma5 = 1.9\n",
    "\n",
    "theta_gamma = media/k_gamma\n",
    "theta_gamma2 = media/k_gamma2\n",
    "theta_gamma3 = media/k_gamma3\n",
    "theta_gamma4 = media/k_gamma4\n",
    "theta_gamma5 = media/k_gamma5\n",
    "\n",
    "gamma = stats.gamma.pdf(x, scale=theta_gamma, loc=0, a=k_gamma)\n",
    "gamma2 = stats.gamma.pdf(x, scale=theta_gamma2, loc=0, a=k_gamma2)\n",
    "gamma3 = stats.gamma.pdf(x, scale=theta_gamma3, loc=0, a=k_gamma3)\n",
    "gamma4 = stats.gamma.pdf(x, scale=theta_gamma4, loc=0, a=k_gamma4)\n",
    "gamma5 = stats.gamma.pdf(x, scale=theta_gamma5, loc=0, a=k_gamma5)\n",
    "\n",
    "exponencial = stats.expon.pdf(x, scale=media)\n",
    "plt.plot(x, exponencial, '-', color='red', label=\"Exponencial\")\n",
    "plt.plot(x, gamma, '-', color='green', label=\"Gamma\")\n",
    "plt.plot(x, gamma2, '-', color='green', label=\"Gamma\")\n",
    "plt.plot(x, gamma3, '-', color='green', label=\"Gamma\")\n",
    "plt.plot(x, gamma4, '-', color='green', label=\"Gamma\")\n",
    "plt.plot(x, gamma5, '-', color='green', label=\"Gamma\")\n",
    "\n",
    "x = np.linspace(0, 20000, 200000)\n",
    "exponencial = stats.expon.pdf(x, scale=media)\n",
    "\n",
    "\n",
    "plt.plot(x, exponencial, '-', color='red', label=\"Exponencial\")\n",
    "a"
   ]
  },
  {
   "cell_type": "code",
   "execution_count": 136,
   "metadata": {
    "collapsed": false
   },
   "outputs": [
    {
     "name": "stdout",
     "output_type": "stream",
     "text": [
      "4070.454949944383\n",
      "22655187.662875943\n",
      "8732.716093274339\n"
     ]
    }
   ],
   "source": [
    "#print(max(dados.Qte_Acidentes[dados.Ano == '1997']))\n",
    "a = Caso.Qte_Acidentes\n",
    "media = np.mean(a[(a < 20000) ])\n",
    "sigma = np.var(a[(a < 20000)  ])\n",
    "desvpad = np.std(a)\n",
    "print(media)\n",
    "print(sigma)\n",
    "print(desvpad)"
   ]
  },
  {
   "cell_type": "markdown",
   "metadata": {
    "collapsed": true
   },
   "source": [
    "___\n",
    "### Itens 4 a 6 - Resolução:"
   ]
  },
  {
   "cell_type": "code",
   "execution_count": 144,
   "metadata": {
    "collapsed": false
   },
   "outputs": [
    {
     "data": {
      "text/plain": [
       "(0.2369605005214776, 0.99999999999999978, 19409.029421278334)"
      ]
     },
     "execution_count": 144,
     "metadata": {},
     "output_type": "execute_result"
    }
   ],
   "source": [
    "\n",
    "b = 1.7\n",
    "stats.gamma.fit(a,b, loc=media, scale=desvpad)"
   ]
  },
  {
   "cell_type": "code",
   "execution_count": 138,
   "metadata": {
    "collapsed": false
   },
   "outputs": [
    {
     "data": {
      "text/plain": [
       "(0.9999995543109379, 5537.7460833354507)"
      ]
     },
     "execution_count": 138,
     "metadata": {},
     "output_type": "execute_result"
    }
   ],
   "source": [
    "stats.expon.fit(a,loc=media,scale=desvpad)"
   ]
  },
  {
   "cell_type": "markdown",
   "metadata": {
    "collapsed": true
   },
   "source": [
    "___\n",
    "### Itens 7 a 9 - Resolução:"
   ]
  },
  {
   "cell_type": "code",
   "execution_count": null,
   "metadata": {
    "collapsed": true
   },
   "outputs": [],
   "source": []
  },
  {
   "cell_type": "code",
   "execution_count": null,
   "metadata": {
    "collapsed": true
   },
   "outputs": [],
   "source": []
  },
  {
   "cell_type": "markdown",
   "metadata": {},
   "source": [
    "___\n",
    "### Itens 10 e 11 - Resolução:"
   ]
  },
  {
   "cell_type": "code",
   "execution_count": null,
   "metadata": {
    "collapsed": true
   },
   "outputs": [],
   "source": []
  },
  {
   "cell_type": "code",
   "execution_count": null,
   "metadata": {
    "collapsed": true
   },
   "outputs": [],
   "source": []
  }
 ],
 "metadata": {
  "anaconda-cloud": {},
  "kernelspec": {
   "display_name": "Python 3",
   "language": "python",
   "name": "python3"
  },
  "language_info": {
   "codemirror_mode": {
    "name": "ipython",
    "version": 3
   },
   "file_extension": ".py",
   "mimetype": "text/x-python",
   "name": "python",
   "nbconvert_exporter": "python",
   "pygments_lexer": "ipython3",
   "version": "3.5.2"
  }
 },
 "nbformat": 4,
 "nbformat_minor": 0
}
