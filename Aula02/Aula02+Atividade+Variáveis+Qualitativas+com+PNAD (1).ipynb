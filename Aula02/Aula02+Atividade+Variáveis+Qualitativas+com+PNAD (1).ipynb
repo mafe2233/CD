{
 "cells": [
  {
   "cell_type": "markdown",
   "metadata": {},
   "source": [
    "___\n",
    "# Atividade: Variáveis qualitativas com a PNAD (ALUNOS)\n",
    "___\n",
    "\n",
    "## Aula 02\n",
    "\n",
    "\n",
    "**Link úteis:**\n",
    "1.\tLeitura prévia necessária: Magalhães e Lima (7ª. Edição): pág. 9 a 16 – destacando para variáveis qualitativas.\n",
    "2.\t10 Minutes to Pandas: http://pandas.pydata.org/pandas-docs/stable/10min.html\n",
    "3.\tEssential Basic Functionality: http://pandas.pydata.org/pandas-docs/stable/basics.html\n",
    "4.  Estude a aula `Aula02 Análise Exploratoria Variáveis Qualitativas-ALUNOS.ipynb`, o qual contém uma introdução ao Jupyter Notebook. A publicação dessa aula tem como objetivo auxiliá-lo, caso queira, no desenvolvimento dos seus próximos programas, como esta atividade.\n",
    "\n",
    "**Hoje:**\n",
    "1.\tAnalisar variáveis qualitativas de forma uni e bivariadas utilizando tabelas de frequências e gráficos de barras e de pizza (ou setor).\n",
    "2.  Trabalhar com a base de dados da PNAD 2013 - Pesquisa Nacional por Amostra de Domicílios\n",
    "\n",
    "**Próxima aula:**\n",
    "1.\tLeitura prévia necessária: Magalhães e Lima (7ª. Edição): pág. 9 a 17 – destacando para variáveis quantitativas; pág. 106 e 107 (Definição 4.1 e Exemplo 4.1).\n",
    "\n",
    "___\n"
   ]
  },
  {
   "cell_type": "markdown",
   "metadata": {},
   "source": [
    "___\n",
    "## <font color='blue'>PNAD 2013 – PESQUISA NACIONAL POR AMOSTRA DE DOMICÍLIOS</font>\n",
    "\n",
    "**Base de dados reduzida: ** `pes2013A.txt` (75 MB)\n",
    "[Acesse a base de dados aqui: https://dl.dropboxusercontent.com/u/65763596/Aula02/pes2013A.txt] \n",
    "\n",
    "**Dicionário das variáveis: ** `Dicionário de variáveis de pessoas - PNAD 2013.xlsx`\n",
    "[Acesse dicionário aqui: https://dl.dropboxusercontent.com/u/65763596/Aula02/Dicion%C3%A1rio%20de%20vari%C3%A1veis%20de%20pessoas%20-%20PNAD%202013.xls]\n",
    "\n",
    "\n",
    "Muitos especialistas na área de negócios dizem que empresários mais bem sucedidos são aqueles que fazem um planejamento antes de começar seu próprio negócio. Nessa visão, imagine que o Sr. Gold tenha como grande objetivo abrir uma nova faculdade e para isso deseja estudar o perfil do estudante que cursa ensino médio ou pré-vestibular e do que cursa ensino superior. \n",
    "\n",
    "Assuma que as variáveis de interesse a respeito dos estudantes sejam relativamente as mesmas de 2013 até o momento atual. Nesse caso, seja criativo para ajudar o Sr. Gold que deseja abrir seu negócio, mas não tem certeza sobre quais variáveis o interessam. \n",
    "\n",
    "Vocês podem ajudá-lo?!  \n",
    "\n",
    "As variáveis a seguir devem fazer parte da sua análise:\n",
    "\n",
    "* V0302: sexo\n",
    "* V0404: cor ou raça\n",
    "* V6002: rede de ensino\n",
    "* V4802: nível de ensino e grupos de séries do ensino fundamental que frequentavam (todos os estudantes)\n",
    "\n",
    "** Crie uma variável com região do indivíduo amostrado considerando a variável `UF` que define o estado e também trabalhe com essa nova variável em suas análises. ** \n",
    "\n",
    "** Escolha mais pelo menos DUAS variáveis qualitativas para completar sua análise!! **\n",
    "\n",
    "Faça uma análise exploratória apenas com as variáveis qualitativas com foco no objetivo do Sr. Gold.\n",
    "\n",
    "Sua análise deve conter pelo menos uma das seguintes visualizações:\n",
    "\n",
    "1. Gráfico de colunas (bar) e setor (pie) com as frequências relativas cadas categorias das variáveis qualitativas.\n",
    "2. Tabela cruzada entre pares de variaveis qualitativas. Montar o gráfico de colunas. Repetir o processo habilitando a opção \"stacked=True\".\n",
    "\n",
    "\n",
    "___\n",
    "\n",
    "\n",
    "\n",
    "<font color='red'>\n",
    "Crie um repositório chamado CD em seu Github\n",
    "</font>\n",
    "\n",
    "\n",
    "Neste repositório, salve seu trabalho numa pasta chamada aula2\n",
    "\n",
    "Por exemplo, se seu login for *pikachu* o projeto vai estar na pasta:\n",
    "\n",
    "https://github.com/<font color=red>pikachu/CD/aula2</font>\n",
    "\n",
    "\n",
    "\n",
    "## <font color='red'>Terça-feira (dia 16/08), no horário de atendimento da sua turma, deverá apresentar aos NINJAS!!</font>\n",
    "___"
   ]
  },
  {
   "cell_type": "code",
   "execution_count": 1,
   "metadata": {
    "collapsed": false
   },
   "outputs": [],
   "source": [
    "%matplotlib inline\n",
    "import pandas as pd\n",
    "import matplotlib.pyplot as plt\n",
    "import os"
   ]
  },
  {
   "cell_type": "code",
   "execution_count": 2,
   "metadata": {
    "collapsed": false
   },
   "outputs": [
    {
     "name": "stdout",
     "output_type": "stream",
     "text": [
      "Diretório\n",
      "C:\\Users\\pedro\\Documents\\facul\\segundo semestre\\Ciencia dos dados\\CDEng\\aula02\n"
     ]
    }
   ],
   "source": [
    "print('Diretório')\n",
    "print(os.getcwd())"
   ]
  },
  {
   "cell_type": "code",
   "execution_count": 3,
   "metadata": {
    "collapsed": false
   },
   "outputs": [],
   "source": [
    "dados = pd.read_table(\"pes2013A.txt\", sep = \" \" , encoding = \"windows-1252\" )\n",
    "n = dados.shape[0]"
   ]
  },
  {
   "cell_type": "code",
   "execution_count": 4,
   "metadata": {
    "collapsed": false
   },
   "outputs": [
    {
     "data": {
      "text/plain": [
       "362555"
      ]
     },
     "execution_count": 4,
     "metadata": {},
     "output_type": "execute_result"
    }
   ],
   "source": [
    "dados.shape[0]"
   ]
  },
  {
   "cell_type": "code",
   "execution_count": 5,
   "metadata": {
    "collapsed": false
   },
   "outputs": [],
   "source": [
    "dados.UF = dados.UF.astype('category')\n",
    "dados.UF.cat.categories = ('RO','AC','AM','RR','PA','AP','TO','MA','PI','CE','RN','PB','PE','AL','SE','BA','MG','ES','RJ','SP','PR','SC','RS','MS','MT','GO','DF')\n",
    "# Parte Pedro\n",
    "dados.V0302 = dados.V0302.astype('category')\n",
    "dados.V0302.cat.categories = ('Masculino', 'Feminino')\n",
    "dados.V0404 = dados.V0404.astype('category')\n",
    "dados.V0404.cat.categories = ('Branca', 'Preta', 'Amarela', 'Parda', 'Indígena', 'Sem declaração')\n",
    "# Parte Isaella\n",
    "dados.V6002 = dados.V6002.astype('category')\n",
    "dados.V4802 = dados.V4802.astype('category')\n",
    "# Parte Thiago\n",
    "dados.V4011 = dados.V4011.astype('category')\n",
    "dados.V4011.cat.categories = ('Casado(a)', 'Desquitado(a) ou separado(a) judicialmente', 'Divorciado(a)', 'Viúvo(a)', 'Solteiro(a)')\n",
    "dados.V6003 = dados.V6003.astype('category')\n",
    "dados.V6003.cat.categories = ('Regular do ensino fundamental', 'Regular do ensino médio', 'Educação de jovens e adultos ou supletivo do ensino fundamental', 'Educação de jovens e adultos ou supletivo do ensino médio', 'Superior de graduação', 'Alfabetização de jovens e adultos', 'Creche', 'Classe de alfabetização - CA', 'Maternal, jardim de infância etc.', 'Pré-vestibular', 'Mestrado ou doutorado')"
   ]
  },
  {
   "cell_type": "code",
   "execution_count": 6,
   "metadata": {
    "collapsed": false
   },
   "outputs": [
    {
     "name": "stdout",
     "output_type": "stream",
     "text": [
      "Tratamento dos dados da variável V0302 (Gênero)\n"
     ]
    }
   ],
   "source": [
    "print('Tratamento dos dados da variável V0302 (Gênero)')"
   ]
  },
  {
   "cell_type": "code",
   "execution_count": 7,
   "metadata": {
    "collapsed": false
   },
   "outputs": [
    {
     "name": "stdout",
     "output_type": "stream",
     "text": [
      "Frequências relativas por sexo:\n",
      "Feminino     51.42751\n",
      "Masculino    48.57249\n",
      "dtype: float64 \n",
      "\n"
     ]
    }
   ],
   "source": [
    "print('Frequências relativas por sexo:')\n",
    "ut1 = ((dados.V0302.value_counts()/n*100).round(decimals=5))\n",
    "print(ut1,'\\n')"
   ]
  },
  {
   "cell_type": "code",
   "execution_count": 8,
   "metadata": {
    "collapsed": false
   },
   "outputs": [
    {
     "data": {
      "text/plain": [
       "<matplotlib.text.Text at 0x9ceb18a8d0>"
      ]
     },
     "execution_count": 8,
     "metadata": {},
     "output_type": "execute_result"
    },
    {
     "data": {
      "image/png": "[encoded data removed]",
      "text/plain": [
       "<matplotlib.figure.Figure at 0x9cead5da20>"
      ]
     },
     "metadata": {},
     "output_type": "display_data"
    }
   ],
   "source": [
    "plot = ut1.plot(kind='bar',title='Generos',figsize=(6, 6),color=('b','g'))\n",
    "dados.V0302.cat.categories = ('Masculino', 'Feminino')\n",
    "plt.ylabel('Freq.Relativa (em%)')\n",
    "plt.xlabel('')"
   ]
  },
  {
   "cell_type": "code",
   "execution_count": 9,
   "metadata": {
    "collapsed": false
   },
   "outputs": [
    {
     "data": {
      "image/png": "[encoded data removed]",
      "text/plain": [
       "<matplotlib.figure.Figure at 0x9cead5d278>"
      ]
     },
     "metadata": {},
     "output_type": "display_data"
    }
   ],
   "source": [
    "plot = ut1.plot(kind='pie',title='Genero',autopct='%.1f',figsize=(6, 6))"
   ]
  },
  {
   "cell_type": "code",
   "execution_count": 10,
   "metadata": {
    "collapsed": false
   },
   "outputs": [
    {
     "name": "stdout",
     "output_type": "stream",
     "text": [
      "Tabela Cruzada GÊNERO x ESTADO:\n"
     ]
    },
    {
     "data": {
      "text/html": [
       "<div>\n",
       "<table border=\"1\" class=\"dataframe\">\n",
       "  <thead>\n",
       "    <tr style=\"text-align: right;\">\n",
       "      <th>Gênero</th>\n",
       "      <th>Masculino</th>\n",
       "      <th>Feminino</th>\n",
       "      <th>All</th>\n",
       "    </tr>\n",
       "    <tr>\n",
       "      <th>UF</th>\n",
       "      <th></th>\n",
       "      <th></th>\n",
       "      <th></th>\n",
       "    </tr>\n",
       "  </thead>\n",
       "  <tbody>\n",
       "    <tr>\n",
       "      <th>RO</th>\n",
       "      <td>3609</td>\n",
       "      <td>3511</td>\n",
       "      <td>7120</td>\n",
       "    </tr>\n",
       "    <tr>\n",
       "      <th>AC</th>\n",
       "      <td>2226</td>\n",
       "      <td>2249</td>\n",
       "      <td>4475</td>\n",
       "    </tr>\n",
       "    <tr>\n",
       "      <th>AM</th>\n",
       "      <td>6538</td>\n",
       "      <td>6485</td>\n",
       "      <td>13023</td>\n",
       "    </tr>\n",
       "    <tr>\n",
       "      <th>RR</th>\n",
       "      <td>1395</td>\n",
       "      <td>1372</td>\n",
       "      <td>2767</td>\n",
       "    </tr>\n",
       "    <tr>\n",
       "      <th>PA</th>\n",
       "      <td>11110</td>\n",
       "      <td>11345</td>\n",
       "      <td>22455</td>\n",
       "    </tr>\n",
       "    <tr>\n",
       "      <th>AP</th>\n",
       "      <td>1445</td>\n",
       "      <td>1445</td>\n",
       "      <td>2890</td>\n",
       "    </tr>\n",
       "    <tr>\n",
       "      <th>TO</th>\n",
       "      <td>3169</td>\n",
       "      <td>3288</td>\n",
       "      <td>6457</td>\n",
       "    </tr>\n",
       "    <tr>\n",
       "      <th>MA</th>\n",
       "      <td>4591</td>\n",
       "      <td>4679</td>\n",
       "      <td>9270</td>\n",
       "    </tr>\n",
       "    <tr>\n",
       "      <th>PI</th>\n",
       "      <td>2720</td>\n",
       "      <td>2872</td>\n",
       "      <td>5592</td>\n",
       "    </tr>\n",
       "    <tr>\n",
       "      <th>CE</th>\n",
       "      <td>9217</td>\n",
       "      <td>9905</td>\n",
       "      <td>19122</td>\n",
       "    </tr>\n",
       "    <tr>\n",
       "      <th>RN</th>\n",
       "      <td>2497</td>\n",
       "      <td>2571</td>\n",
       "      <td>5068</td>\n",
       "    </tr>\n",
       "    <tr>\n",
       "      <th>PB</th>\n",
       "      <td>2942</td>\n",
       "      <td>3245</td>\n",
       "      <td>6187</td>\n",
       "    </tr>\n",
       "    <tr>\n",
       "      <th>PE</th>\n",
       "      <td>9682</td>\n",
       "      <td>10879</td>\n",
       "      <td>20561</td>\n",
       "    </tr>\n",
       "    <tr>\n",
       "      <th>AL</th>\n",
       "      <td>2593</td>\n",
       "      <td>2868</td>\n",
       "      <td>5461</td>\n",
       "    </tr>\n",
       "    <tr>\n",
       "      <th>SE</th>\n",
       "      <td>3012</td>\n",
       "      <td>3077</td>\n",
       "      <td>6089</td>\n",
       "    </tr>\n",
       "    <tr>\n",
       "      <th>BA</th>\n",
       "      <td>13109</td>\n",
       "      <td>14138</td>\n",
       "      <td>27247</td>\n",
       "    </tr>\n",
       "    <tr>\n",
       "      <th>MG</th>\n",
       "      <td>16102</td>\n",
       "      <td>17035</td>\n",
       "      <td>33137</td>\n",
       "    </tr>\n",
       "    <tr>\n",
       "      <th>ES</th>\n",
       "      <td>3300</td>\n",
       "      <td>3437</td>\n",
       "      <td>6737</td>\n",
       "    </tr>\n",
       "    <tr>\n",
       "      <th>RJ</th>\n",
       "      <td>12048</td>\n",
       "      <td>13675</td>\n",
       "      <td>25723</td>\n",
       "    </tr>\n",
       "    <tr>\n",
       "      <th>SP</th>\n",
       "      <td>19156</td>\n",
       "      <td>20375</td>\n",
       "      <td>39531</td>\n",
       "    </tr>\n",
       "    <tr>\n",
       "      <th>PR</th>\n",
       "      <td>9291</td>\n",
       "      <td>9754</td>\n",
       "      <td>19045</td>\n",
       "    </tr>\n",
       "    <tr>\n",
       "      <th>SC</th>\n",
       "      <td>4831</td>\n",
       "      <td>5051</td>\n",
       "      <td>9882</td>\n",
       "    </tr>\n",
       "    <tr>\n",
       "      <th>RS</th>\n",
       "      <td>13088</td>\n",
       "      <td>14101</td>\n",
       "      <td>27189</td>\n",
       "    </tr>\n",
       "    <tr>\n",
       "      <th>MS</th>\n",
       "      <td>3129</td>\n",
       "      <td>3198</td>\n",
       "      <td>6327</td>\n",
       "    </tr>\n",
       "    <tr>\n",
       "      <th>MT</th>\n",
       "      <td>3573</td>\n",
       "      <td>3575</td>\n",
       "      <td>7148</td>\n",
       "    </tr>\n",
       "    <tr>\n",
       "      <th>GO</th>\n",
       "      <td>7342</td>\n",
       "      <td>7349</td>\n",
       "      <td>14691</td>\n",
       "    </tr>\n",
       "    <tr>\n",
       "      <th>DF</th>\n",
       "      <td>4387</td>\n",
       "      <td>4974</td>\n",
       "      <td>9361</td>\n",
       "    </tr>\n",
       "    <tr>\n",
       "      <th>All</th>\n",
       "      <td>176102</td>\n",
       "      <td>186453</td>\n",
       "      <td>362555</td>\n",
       "    </tr>\n",
       "  </tbody>\n",
       "</table>\n",
       "</div>"
      ],
      "text/plain": [
       "Gênero  Masculino  Feminino     All\n",
       "UF                                 \n",
       "RO           3609      3511    7120\n",
       "AC           2226      2249    4475\n",
       "AM           6538      6485   13023\n",
       "RR           1395      1372    2767\n",
       "PA          11110     11345   22455\n",
       "AP           1445      1445    2890\n",
       "TO           3169      3288    6457\n",
       "MA           4591      4679    9270\n",
       "PI           2720      2872    5592\n",
       "CE           9217      9905   19122\n",
       "RN           2497      2571    5068\n",
       "PB           2942      3245    6187\n",
       "PE           9682     10879   20561\n",
       "AL           2593      2868    5461\n",
       "SE           3012      3077    6089\n",
       "BA          13109     14138   27247\n",
       "MG          16102     17035   33137\n",
       "ES           3300      3437    6737\n",
       "RJ          12048     13675   25723\n",
       "SP          19156     20375   39531\n",
       "PR           9291      9754   19045\n",
       "SC           4831      5051    9882\n",
       "RS          13088     14101   27189\n",
       "MS           3129      3198    6327\n",
       "MT           3573      3575    7148\n",
       "GO           7342      7349   14691\n",
       "DF           4387      4974    9361\n",
       "All        176102    186453  362555"
      ]
     },
     "execution_count": 10,
     "metadata": {},
     "output_type": "execute_result"
    }
   ],
   "source": [
    "print('Tabela Cruzada GÊNERO x ESTADO:')\n",
    "ct1=pd.crosstab(dados.UF,dados.V0302,margins=True,rownames=['UF'], colnames=['Gênero'])\n",
    "ct1f = ct1.fillna(0)\n",
    "ct1f"
   ]
  },
  {
   "cell_type": "code",
   "execution_count": 11,
   "metadata": {
    "collapsed": false
   },
   "outputs": [
    {
     "name": "stdout",
     "output_type": "stream",
     "text": [
      "Tratamento dos dados da variável V0404 (Raça)\n"
     ]
    }
   ],
   "source": [
    "print('Tratamento dos dados da variável V0404 (Raça)')"
   ]
  },
  {
   "cell_type": "code",
   "execution_count": 12,
   "metadata": {
    "collapsed": false
   },
   "outputs": [
    {
     "name": "stdout",
     "output_type": "stream",
     "text": [
      "Frequências relativas por raça:\n",
      "Indígena          48.0\n",
      "Preta             42.8\n",
      "Amarela            8.3\n",
      "Branca             0.5\n",
      "Parda              0.4\n",
      "Sem declaração     0.0\n",
      "dtype: float64 \n",
      "\n"
     ]
    }
   ],
   "source": [
    "print('Frequências relativas por raça:')\n",
    "ut2 = ((dados.V0404.value_counts()/n*100).round(decimals=1))\n",
    "print(ut2,'\\n')"
   ]
  },
  {
   "cell_type": "code",
   "execution_count": 13,
   "metadata": {
    "collapsed": false
   },
   "outputs": [
    {
     "data": {
      "text/plain": [
       "<matplotlib.text.Text at 0x9c8bb5c8d0>"
      ]
     },
     "execution_count": 13,
     "metadata": {},
     "output_type": "execute_result"
    },
    {
     "data": {
      "image/png": "[encoded data removed]",
      "text/plain": [
       "<matplotlib.figure.Figure at 0x9c8bb48048>"
      ]
     },
     "metadata": {},
     "output_type": "display_data"
    }
   ],
   "source": [
    "plot = ut2.plot(kind='bar',title='Raças',figsize=(6, 6),color=('b','g','r','black','c','y'))\n",
    "plt.ylabel('Freq.Relativa (em%)')\n",
    "plt.xlabel('')"
   ]
  },
  {
   "cell_type": "code",
   "execution_count": 14,
   "metadata": {
    "collapsed": false
   },
   "outputs": [
    {
     "data": {
      "image/png": "[encoded data removed]",
      "text/plain": [
       "<matplotlib.figure.Figure at 0x9c8b421128>"
      ]
     },
     "metadata": {},
     "output_type": "display_data"
    }
   ],
   "source": [
    "plot = ut2.plot(kind='pie',title='Raças',autopct='%.1f',figsize=(6, 6))"
   ]
  },
  {
   "cell_type": "code",
   "execution_count": 15,
   "metadata": {
    "collapsed": false
   },
   "outputs": [
    {
     "name": "stdout",
     "output_type": "stream",
     "text": [
      "Tabela Cruzada RAÇAS x ESTADO:\n"
     ]
    },
    {
     "data": {
      "text/html": [
       "<div>\n",
       "<table border=\"1\" class=\"dataframe\">\n",
       "  <thead>\n",
       "    <tr style=\"text-align: right;\">\n",
       "      <th>Raças</th>\n",
       "      <th>Branca</th>\n",
       "      <th>Preta</th>\n",
       "      <th>Amarela</th>\n",
       "      <th>Parda</th>\n",
       "      <th>Indígena</th>\n",
       "      <th>Sem declaração</th>\n",
       "      <th>All</th>\n",
       "    </tr>\n",
       "    <tr>\n",
       "      <th>UF</th>\n",
       "      <th></th>\n",
       "      <th></th>\n",
       "      <th></th>\n",
       "      <th></th>\n",
       "      <th></th>\n",
       "      <th></th>\n",
       "      <th></th>\n",
       "    </tr>\n",
       "  </thead>\n",
       "  <tbody>\n",
       "    <tr>\n",
       "      <th>RO</th>\n",
       "      <td>12</td>\n",
       "      <td>2500</td>\n",
       "      <td>482</td>\n",
       "      <td>17</td>\n",
       "      <td>4109</td>\n",
       "      <td>0</td>\n",
       "      <td>7120</td>\n",
       "    </tr>\n",
       "    <tr>\n",
       "      <th>AC</th>\n",
       "      <td>178</td>\n",
       "      <td>992</td>\n",
       "      <td>310</td>\n",
       "      <td>15</td>\n",
       "      <td>2980</td>\n",
       "      <td>0</td>\n",
       "      <td>4475</td>\n",
       "    </tr>\n",
       "    <tr>\n",
       "      <th>AM</th>\n",
       "      <td>416</td>\n",
       "      <td>2833</td>\n",
       "      <td>514</td>\n",
       "      <td>51</td>\n",
       "      <td>9209</td>\n",
       "      <td>0</td>\n",
       "      <td>13023</td>\n",
       "    </tr>\n",
       "    <tr>\n",
       "      <th>RR</th>\n",
       "      <td>115</td>\n",
       "      <td>618</td>\n",
       "      <td>289</td>\n",
       "      <td>3</td>\n",
       "      <td>1742</td>\n",
       "      <td>0</td>\n",
       "      <td>2767</td>\n",
       "    </tr>\n",
       "    <tr>\n",
       "      <th>PA</th>\n",
       "      <td>173</td>\n",
       "      <td>4817</td>\n",
       "      <td>2003</td>\n",
       "      <td>63</td>\n",
       "      <td>15399</td>\n",
       "      <td>0</td>\n",
       "      <td>22455</td>\n",
       "    </tr>\n",
       "    <tr>\n",
       "      <th>AP</th>\n",
       "      <td>9</td>\n",
       "      <td>714</td>\n",
       "      <td>293</td>\n",
       "      <td>7</td>\n",
       "      <td>1867</td>\n",
       "      <td>0</td>\n",
       "      <td>2890</td>\n",
       "    </tr>\n",
       "    <tr>\n",
       "      <th>TO</th>\n",
       "      <td>9</td>\n",
       "      <td>1570</td>\n",
       "      <td>485</td>\n",
       "      <td>24</td>\n",
       "      <td>4369</td>\n",
       "      <td>0</td>\n",
       "      <td>6457</td>\n",
       "    </tr>\n",
       "    <tr>\n",
       "      <th>MA</th>\n",
       "      <td>36</td>\n",
       "      <td>1833</td>\n",
       "      <td>1133</td>\n",
       "      <td>35</td>\n",
       "      <td>6227</td>\n",
       "      <td>6</td>\n",
       "      <td>9270</td>\n",
       "    </tr>\n",
       "    <tr>\n",
       "      <th>PI</th>\n",
       "      <td>5</td>\n",
       "      <td>1402</td>\n",
       "      <td>357</td>\n",
       "      <td>10</td>\n",
       "      <td>3818</td>\n",
       "      <td>0</td>\n",
       "      <td>5592</td>\n",
       "    </tr>\n",
       "    <tr>\n",
       "      <th>CE</th>\n",
       "      <td>55</td>\n",
       "      <td>5759</td>\n",
       "      <td>757</td>\n",
       "      <td>38</td>\n",
       "      <td>12513</td>\n",
       "      <td>0</td>\n",
       "      <td>19122</td>\n",
       "    </tr>\n",
       "    <tr>\n",
       "      <th>RN</th>\n",
       "      <td>3</td>\n",
       "      <td>2024</td>\n",
       "      <td>286</td>\n",
       "      <td>14</td>\n",
       "      <td>2741</td>\n",
       "      <td>0</td>\n",
       "      <td>5068</td>\n",
       "    </tr>\n",
       "    <tr>\n",
       "      <th>PB</th>\n",
       "      <td>58</td>\n",
       "      <td>2175</td>\n",
       "      <td>342</td>\n",
       "      <td>18</td>\n",
       "      <td>3594</td>\n",
       "      <td>0</td>\n",
       "      <td>6187</td>\n",
       "    </tr>\n",
       "    <tr>\n",
       "      <th>PE</th>\n",
       "      <td>102</td>\n",
       "      <td>6955</td>\n",
       "      <td>1395</td>\n",
       "      <td>31</td>\n",
       "      <td>12078</td>\n",
       "      <td>0</td>\n",
       "      <td>20561</td>\n",
       "    </tr>\n",
       "    <tr>\n",
       "      <th>AL</th>\n",
       "      <td>19</td>\n",
       "      <td>1441</td>\n",
       "      <td>433</td>\n",
       "      <td>14</td>\n",
       "      <td>3554</td>\n",
       "      <td>0</td>\n",
       "      <td>5461</td>\n",
       "    </tr>\n",
       "    <tr>\n",
       "      <th>SE</th>\n",
       "      <td>15</td>\n",
       "      <td>1672</td>\n",
       "      <td>489</td>\n",
       "      <td>27</td>\n",
       "      <td>3886</td>\n",
       "      <td>0</td>\n",
       "      <td>6089</td>\n",
       "    </tr>\n",
       "    <tr>\n",
       "      <th>BA</th>\n",
       "      <td>105</td>\n",
       "      <td>5395</td>\n",
       "      <td>5564</td>\n",
       "      <td>93</td>\n",
       "      <td>16090</td>\n",
       "      <td>0</td>\n",
       "      <td>27247</td>\n",
       "    </tr>\n",
       "    <tr>\n",
       "      <th>MG</th>\n",
       "      <td>70</td>\n",
       "      <td>13941</td>\n",
       "      <td>3140</td>\n",
       "      <td>63</td>\n",
       "      <td>15923</td>\n",
       "      <td>0</td>\n",
       "      <td>33137</td>\n",
       "    </tr>\n",
       "    <tr>\n",
       "      <th>ES</th>\n",
       "      <td>11</td>\n",
       "      <td>2643</td>\n",
       "      <td>638</td>\n",
       "      <td>14</td>\n",
       "      <td>3431</td>\n",
       "      <td>0</td>\n",
       "      <td>6737</td>\n",
       "    </tr>\n",
       "    <tr>\n",
       "      <th>RJ</th>\n",
       "      <td>30</td>\n",
       "      <td>12398</td>\n",
       "      <td>3456</td>\n",
       "      <td>58</td>\n",
       "      <td>9781</td>\n",
       "      <td>0</td>\n",
       "      <td>25723</td>\n",
       "    </tr>\n",
       "    <tr>\n",
       "      <th>SP</th>\n",
       "      <td>49</td>\n",
       "      <td>24881</td>\n",
       "      <td>2548</td>\n",
       "      <td>412</td>\n",
       "      <td>11641</td>\n",
       "      <td>0</td>\n",
       "      <td>39531</td>\n",
       "    </tr>\n",
       "    <tr>\n",
       "      <th>PR</th>\n",
       "      <td>29</td>\n",
       "      <td>13089</td>\n",
       "      <td>580</td>\n",
       "      <td>205</td>\n",
       "      <td>5142</td>\n",
       "      <td>0</td>\n",
       "      <td>19045</td>\n",
       "    </tr>\n",
       "    <tr>\n",
       "      <th>SC</th>\n",
       "      <td>20</td>\n",
       "      <td>8353</td>\n",
       "      <td>274</td>\n",
       "      <td>15</td>\n",
       "      <td>1220</td>\n",
       "      <td>0</td>\n",
       "      <td>9882</td>\n",
       "    </tr>\n",
       "    <tr>\n",
       "      <th>RS</th>\n",
       "      <td>66</td>\n",
       "      <td>21921</td>\n",
       "      <td>1785</td>\n",
       "      <td>51</td>\n",
       "      <td>3366</td>\n",
       "      <td>0</td>\n",
       "      <td>27189</td>\n",
       "    </tr>\n",
       "    <tr>\n",
       "      <th>MS</th>\n",
       "      <td>43</td>\n",
       "      <td>2921</td>\n",
       "      <td>344</td>\n",
       "      <td>51</td>\n",
       "      <td>2968</td>\n",
       "      <td>0</td>\n",
       "      <td>6327</td>\n",
       "    </tr>\n",
       "    <tr>\n",
       "      <th>MT</th>\n",
       "      <td>10</td>\n",
       "      <td>2404</td>\n",
       "      <td>617</td>\n",
       "      <td>28</td>\n",
       "      <td>4089</td>\n",
       "      <td>0</td>\n",
       "      <td>7148</td>\n",
       "    </tr>\n",
       "    <tr>\n",
       "      <th>GO</th>\n",
       "      <td>18</td>\n",
       "      <td>5841</td>\n",
       "      <td>901</td>\n",
       "      <td>61</td>\n",
       "      <td>7870</td>\n",
       "      <td>0</td>\n",
       "      <td>14691</td>\n",
       "    </tr>\n",
       "    <tr>\n",
       "      <th>DF</th>\n",
       "      <td>32</td>\n",
       "      <td>4126</td>\n",
       "      <td>715</td>\n",
       "      <td>53</td>\n",
       "      <td>4435</td>\n",
       "      <td>0</td>\n",
       "      <td>9361</td>\n",
       "    </tr>\n",
       "    <tr>\n",
       "      <th>All</th>\n",
       "      <td>1688</td>\n",
       "      <td>155218</td>\n",
       "      <td>30130</td>\n",
       "      <td>1471</td>\n",
       "      <td>174042</td>\n",
       "      <td>6</td>\n",
       "      <td>362555</td>\n",
       "    </tr>\n",
       "  </tbody>\n",
       "</table>\n",
       "</div>"
      ],
      "text/plain": [
       "Raças  Branca   Preta  Amarela  Parda  Indígena  Sem declaração     All\n",
       "UF                                                                     \n",
       "RO         12    2500      482     17      4109               0    7120\n",
       "AC        178     992      310     15      2980               0    4475\n",
       "AM        416    2833      514     51      9209               0   13023\n",
       "RR        115     618      289      3      1742               0    2767\n",
       "PA        173    4817     2003     63     15399               0   22455\n",
       "AP          9     714      293      7      1867               0    2890\n",
       "TO          9    1570      485     24      4369               0    6457\n",
       "MA         36    1833     1133     35      6227               6    9270\n",
       "PI          5    1402      357     10      3818               0    5592\n",
       "CE         55    5759      757     38     12513               0   19122\n",
       "RN          3    2024      286     14      2741               0    5068\n",
       "PB         58    2175      342     18      3594               0    6187\n",
       "PE        102    6955     1395     31     12078               0   20561\n",
       "AL         19    1441      433     14      3554               0    5461\n",
       "SE         15    1672      489     27      3886               0    6089\n",
       "BA        105    5395     5564     93     16090               0   27247\n",
       "MG         70   13941     3140     63     15923               0   33137\n",
       "ES         11    2643      638     14      3431               0    6737\n",
       "RJ         30   12398     3456     58      9781               0   25723\n",
       "SP         49   24881     2548    412     11641               0   39531\n",
       "PR         29   13089      580    205      5142               0   19045\n",
       "SC         20    8353      274     15      1220               0    9882\n",
       "RS         66   21921     1785     51      3366               0   27189\n",
       "MS         43    2921      344     51      2968               0    6327\n",
       "MT         10    2404      617     28      4089               0    7148\n",
       "GO         18    5841      901     61      7870               0   14691\n",
       "DF         32    4126      715     53      4435               0    9361\n",
       "All      1688  155218    30130   1471    174042               6  362555"
      ]
     },
     "execution_count": 15,
     "metadata": {},
     "output_type": "execute_result"
    }
   ],
   "source": [
    "print('Tabela Cruzada RAÇAS x ESTADO:')\n",
    "ct2=pd.crosstab(dados.UF,dados.V0404,margins=True,rownames=['UF'], colnames=['Raças'])\n",
    "ct2f = ct2.fillna(0)\n",
    "ct2f"
   ]
  },
  {
   "cell_type": "code",
   "execution_count": 16,
   "metadata": {
    "collapsed": false
   },
   "outputs": [
    {
     "name": "stdout",
     "output_type": "stream",
     "text": [
      "Traramento de dados da variável 6003 (Curso em que frequenta)\n"
     ]
    }
   ],
   "source": [
    "print('Traramento de dados da variável 6003 (Curso em que frequenta)')"
   ]
  },
  {
   "cell_type": "code",
   "execution_count": 17,
   "metadata": {
    "collapsed": false
   },
   "outputs": [
    {
     "name": "stdout",
     "output_type": "stream",
     "text": [
      "Frequências relativas por curso que frequenta:\n",
      "Regular do ensino fundamental                                      15.525\n",
      "Regular do ensino médio                                             4.463\n",
      "Superior de graduação                                               3.568\n",
      "Creche                                                              1.797\n",
      "Maternal, jardim de infância etc.                                   1.736\n",
      "Educação de jovens e adultos ou supletivo do ensino fundamental     0.413\n",
      "Classe de alfabetização - CA                                        0.296\n",
      "Educação de jovens e adultos ou supletivo do ensino médio           0.275\n",
      "Mestrado ou doutorado                                               0.195\n",
      "Alfabetização de jovens e adultos                                   0.120\n",
      "Pré-vestibular                                                      0.062\n",
      "dtype: float64 \n",
      "\n"
     ]
    }
   ],
   "source": [
    "print('Frequências relativas por curso que frequenta:')\n",
    "ut3 = (dados.V6003.value_counts()/n*100).round(decimals=3)\n",
    "print(ut3,'\\n')"
   ]
  },
  {
   "cell_type": "code",
   "execution_count": 18,
   "metadata": {
    "collapsed": false
   },
   "outputs": [
    {
     "data": {
      "text/plain": [
       "<matplotlib.text.Text at 0x9c8bc74080>"
      ]
     },
     "execution_count": 18,
     "metadata": {},
     "output_type": "execute_result"
    },
    {
     "data": {
      "image/png": "[encoded data removed]",
      "text/plain": [
       "<matplotlib.figure.Figure at 0x9c8bc100b8>"
      ]
     },
     "metadata": {},
     "output_type": "display_data"
    }
   ],
   "source": [
    "plot = ut3.plot(kind='bar',title='Cursos',figsize=(6, 6),color=('b','g','y','r','c','orange','m','w','violet','black'))\n",
    "plt.ylabel('Freq.Relativa (em%)')\n",
    "plt.xlabel('Cursos')"
   ]
  },
  {
   "cell_type": "code",
   "execution_count": 19,
   "metadata": {
    "collapsed": false
   },
   "outputs": [
    {
     "data": {
      "image/png": "[encoded data removed]",
      "text/plain": [
       "<matplotlib.figure.Figure at 0x9c8bb54ac8>"
      ]
     },
     "metadata": {},
     "output_type": "display_data"
    }
   ],
   "source": [
    "plot = ut3.plot(kind='pie',title='Cursos',autopct='%.1f',figsize=(10, 10))\n"
   ]
  },
  {
   "cell_type": "code",
   "execution_count": 20,
   "metadata": {
    "collapsed": false
   },
   "outputs": [
    {
     "name": "stdout",
     "output_type": "stream",
     "text": [
      "Tabela Cruzada CURSO x ESTADO:\n"
     ]
    },
    {
     "data": {
      "text/html": [
       "<div>\n",
       "<table border=\"1\" class=\"dataframe\">\n",
       "  <thead>\n",
       "    <tr style=\"text-align: right;\">\n",
       "      <th>V6003</th>\n",
       "      <th>Regular do ensino fundamental</th>\n",
       "      <th>Regular do ensino médio</th>\n",
       "      <th>Educação de jovens e adultos ou supletivo do ensino fundamental</th>\n",
       "      <th>Educação de jovens e adultos ou supletivo do ensino médio</th>\n",
       "      <th>Superior de graduação</th>\n",
       "      <th>Alfabetização de jovens e adultos</th>\n",
       "      <th>Creche</th>\n",
       "      <th>Classe de alfabetização - CA</th>\n",
       "      <th>Maternal, jardim de infância etc.</th>\n",
       "      <th>Pré-vestibular</th>\n",
       "      <th>Mestrado ou doutorado</th>\n",
       "    </tr>\n",
       "    <tr>\n",
       "      <th>UF</th>\n",
       "      <th></th>\n",
       "      <th></th>\n",
       "      <th></th>\n",
       "      <th></th>\n",
       "      <th></th>\n",
       "      <th></th>\n",
       "      <th></th>\n",
       "      <th></th>\n",
       "      <th></th>\n",
       "      <th></th>\n",
       "      <th></th>\n",
       "    </tr>\n",
       "  </thead>\n",
       "  <tbody>\n",
       "    <tr>\n",
       "      <th>RO</th>\n",
       "      <td>1242</td>\n",
       "      <td>331</td>\n",
       "      <td>43</td>\n",
       "      <td>41</td>\n",
       "      <td>221</td>\n",
       "      <td>5</td>\n",
       "      <td>67</td>\n",
       "      <td>19</td>\n",
       "      <td>101</td>\n",
       "      <td>1</td>\n",
       "      <td>8</td>\n",
       "    </tr>\n",
       "    <tr>\n",
       "      <th>AC</th>\n",
       "      <td>948</td>\n",
       "      <td>203</td>\n",
       "      <td>65</td>\n",
       "      <td>38</td>\n",
       "      <td>162</td>\n",
       "      <td>11</td>\n",
       "      <td>56</td>\n",
       "      <td>26</td>\n",
       "      <td>84</td>\n",
       "      <td>0</td>\n",
       "      <td>6</td>\n",
       "    </tr>\n",
       "    <tr>\n",
       "      <th>AM</th>\n",
       "      <td>2722</td>\n",
       "      <td>693</td>\n",
       "      <td>96</td>\n",
       "      <td>42</td>\n",
       "      <td>547</td>\n",
       "      <td>11</td>\n",
       "      <td>123</td>\n",
       "      <td>80</td>\n",
       "      <td>271</td>\n",
       "      <td>3</td>\n",
       "      <td>14</td>\n",
       "    </tr>\n",
       "    <tr>\n",
       "      <th>RR</th>\n",
       "      <td>487</td>\n",
       "      <td>139</td>\n",
       "      <td>19</td>\n",
       "      <td>9</td>\n",
       "      <td>128</td>\n",
       "      <td>2</td>\n",
       "      <td>48</td>\n",
       "      <td>16</td>\n",
       "      <td>47</td>\n",
       "      <td>2</td>\n",
       "      <td>6</td>\n",
       "    </tr>\n",
       "    <tr>\n",
       "      <th>PA</th>\n",
       "      <td>4313</td>\n",
       "      <td>1140</td>\n",
       "      <td>161</td>\n",
       "      <td>64</td>\n",
       "      <td>586</td>\n",
       "      <td>12</td>\n",
       "      <td>296</td>\n",
       "      <td>51</td>\n",
       "      <td>501</td>\n",
       "      <td>41</td>\n",
       "      <td>28</td>\n",
       "    </tr>\n",
       "    <tr>\n",
       "      <th>AP</th>\n",
       "      <td>594</td>\n",
       "      <td>156</td>\n",
       "      <td>17</td>\n",
       "      <td>7</td>\n",
       "      <td>144</td>\n",
       "      <td>6</td>\n",
       "      <td>35</td>\n",
       "      <td>13</td>\n",
       "      <td>48</td>\n",
       "      <td>6</td>\n",
       "      <td>11</td>\n",
       "    </tr>\n",
       "    <tr>\n",
       "      <th>TO</th>\n",
       "      <td>1176</td>\n",
       "      <td>393</td>\n",
       "      <td>32</td>\n",
       "      <td>7</td>\n",
       "      <td>223</td>\n",
       "      <td>2</td>\n",
       "      <td>82</td>\n",
       "      <td>33</td>\n",
       "      <td>93</td>\n",
       "      <td>0</td>\n",
       "      <td>6</td>\n",
       "    </tr>\n",
       "    <tr>\n",
       "      <th>MA</th>\n",
       "      <td>1903</td>\n",
       "      <td>543</td>\n",
       "      <td>51</td>\n",
       "      <td>8</td>\n",
       "      <td>195</td>\n",
       "      <td>33</td>\n",
       "      <td>190</td>\n",
       "      <td>22</td>\n",
       "      <td>264</td>\n",
       "      <td>2</td>\n",
       "      <td>8</td>\n",
       "    </tr>\n",
       "    <tr>\n",
       "      <th>PI</th>\n",
       "      <td>1038</td>\n",
       "      <td>260</td>\n",
       "      <td>32</td>\n",
       "      <td>15</td>\n",
       "      <td>182</td>\n",
       "      <td>18</td>\n",
       "      <td>120</td>\n",
       "      <td>8</td>\n",
       "      <td>125</td>\n",
       "      <td>4</td>\n",
       "      <td>7</td>\n",
       "    </tr>\n",
       "    <tr>\n",
       "      <th>CE</th>\n",
       "      <td>3072</td>\n",
       "      <td>894</td>\n",
       "      <td>89</td>\n",
       "      <td>48</td>\n",
       "      <td>635</td>\n",
       "      <td>37</td>\n",
       "      <td>356</td>\n",
       "      <td>34</td>\n",
       "      <td>414</td>\n",
       "      <td>7</td>\n",
       "      <td>33</td>\n",
       "    </tr>\n",
       "    <tr>\n",
       "      <th>RN</th>\n",
       "      <td>788</td>\n",
       "      <td>204</td>\n",
       "      <td>36</td>\n",
       "      <td>10</td>\n",
       "      <td>175</td>\n",
       "      <td>19</td>\n",
       "      <td>116</td>\n",
       "      <td>14</td>\n",
       "      <td>95</td>\n",
       "      <td>2</td>\n",
       "      <td>10</td>\n",
       "    </tr>\n",
       "    <tr>\n",
       "      <th>PB</th>\n",
       "      <td>993</td>\n",
       "      <td>245</td>\n",
       "      <td>45</td>\n",
       "      <td>11</td>\n",
       "      <td>245</td>\n",
       "      <td>16</td>\n",
       "      <td>97</td>\n",
       "      <td>15</td>\n",
       "      <td>143</td>\n",
       "      <td>2</td>\n",
       "      <td>16</td>\n",
       "    </tr>\n",
       "    <tr>\n",
       "      <th>PE</th>\n",
       "      <td>3059</td>\n",
       "      <td>914</td>\n",
       "      <td>101</td>\n",
       "      <td>80</td>\n",
       "      <td>666</td>\n",
       "      <td>25</td>\n",
       "      <td>375</td>\n",
       "      <td>79</td>\n",
       "      <td>340</td>\n",
       "      <td>3</td>\n",
       "      <td>52</td>\n",
       "    </tr>\n",
       "    <tr>\n",
       "      <th>AL</th>\n",
       "      <td>1043</td>\n",
       "      <td>214</td>\n",
       "      <td>38</td>\n",
       "      <td>6</td>\n",
       "      <td>165</td>\n",
       "      <td>9</td>\n",
       "      <td>95</td>\n",
       "      <td>19</td>\n",
       "      <td>115</td>\n",
       "      <td>6</td>\n",
       "      <td>6</td>\n",
       "    </tr>\n",
       "    <tr>\n",
       "      <th>SE</th>\n",
       "      <td>1056</td>\n",
       "      <td>266</td>\n",
       "      <td>40</td>\n",
       "      <td>15</td>\n",
       "      <td>223</td>\n",
       "      <td>8</td>\n",
       "      <td>94</td>\n",
       "      <td>39</td>\n",
       "      <td>149</td>\n",
       "      <td>2</td>\n",
       "      <td>7</td>\n",
       "    </tr>\n",
       "    <tr>\n",
       "      <th>BA</th>\n",
       "      <td>4663</td>\n",
       "      <td>1202</td>\n",
       "      <td>137</td>\n",
       "      <td>69</td>\n",
       "      <td>764</td>\n",
       "      <td>62</td>\n",
       "      <td>446</td>\n",
       "      <td>141</td>\n",
       "      <td>537</td>\n",
       "      <td>25</td>\n",
       "      <td>49</td>\n",
       "    </tr>\n",
       "    <tr>\n",
       "      <th>MG</th>\n",
       "      <td>4705</td>\n",
       "      <td>1450</td>\n",
       "      <td>97</td>\n",
       "      <td>121</td>\n",
       "      <td>1156</td>\n",
       "      <td>44</td>\n",
       "      <td>589</td>\n",
       "      <td>29</td>\n",
       "      <td>546</td>\n",
       "      <td>26</td>\n",
       "      <td>62</td>\n",
       "    </tr>\n",
       "    <tr>\n",
       "      <th>ES</th>\n",
       "      <td>972</td>\n",
       "      <td>260</td>\n",
       "      <td>15</td>\n",
       "      <td>12</td>\n",
       "      <td>248</td>\n",
       "      <td>4</td>\n",
       "      <td>149</td>\n",
       "      <td>23</td>\n",
       "      <td>101</td>\n",
       "      <td>3</td>\n",
       "      <td>11</td>\n",
       "    </tr>\n",
       "    <tr>\n",
       "      <th>RJ</th>\n",
       "      <td>3487</td>\n",
       "      <td>1055</td>\n",
       "      <td>52</td>\n",
       "      <td>43</td>\n",
       "      <td>791</td>\n",
       "      <td>19</td>\n",
       "      <td>451</td>\n",
       "      <td>167</td>\n",
       "      <td>395</td>\n",
       "      <td>10</td>\n",
       "      <td>51</td>\n",
       "    </tr>\n",
       "    <tr>\n",
       "      <th>SP</th>\n",
       "      <td>5089</td>\n",
       "      <td>1695</td>\n",
       "      <td>59</td>\n",
       "      <td>77</td>\n",
       "      <td>1387</td>\n",
       "      <td>15</td>\n",
       "      <td>932</td>\n",
       "      <td>63</td>\n",
       "      <td>614</td>\n",
       "      <td>29</td>\n",
       "      <td>101</td>\n",
       "    </tr>\n",
       "    <tr>\n",
       "      <th>PR</th>\n",
       "      <td>2565</td>\n",
       "      <td>784</td>\n",
       "      <td>66</td>\n",
       "      <td>73</td>\n",
       "      <td>750</td>\n",
       "      <td>23</td>\n",
       "      <td>448</td>\n",
       "      <td>29</td>\n",
       "      <td>230</td>\n",
       "      <td>12</td>\n",
       "      <td>44</td>\n",
       "    </tr>\n",
       "    <tr>\n",
       "      <th>SC</th>\n",
       "      <td>1253</td>\n",
       "      <td>412</td>\n",
       "      <td>19</td>\n",
       "      <td>24</td>\n",
       "      <td>459</td>\n",
       "      <td>7</td>\n",
       "      <td>246</td>\n",
       "      <td>11</td>\n",
       "      <td>141</td>\n",
       "      <td>2</td>\n",
       "      <td>25</td>\n",
       "    </tr>\n",
       "    <tr>\n",
       "      <th>RS</th>\n",
       "      <td>3609</td>\n",
       "      <td>1044</td>\n",
       "      <td>59</td>\n",
       "      <td>65</td>\n",
       "      <td>1052</td>\n",
       "      <td>21</td>\n",
       "      <td>523</td>\n",
       "      <td>28</td>\n",
       "      <td>323</td>\n",
       "      <td>16</td>\n",
       "      <td>70</td>\n",
       "    </tr>\n",
       "    <tr>\n",
       "      <th>MS</th>\n",
       "      <td>918</td>\n",
       "      <td>226</td>\n",
       "      <td>28</td>\n",
       "      <td>20</td>\n",
       "      <td>278</td>\n",
       "      <td>5</td>\n",
       "      <td>124</td>\n",
       "      <td>24</td>\n",
       "      <td>88</td>\n",
       "      <td>1</td>\n",
       "      <td>14</td>\n",
       "    </tr>\n",
       "    <tr>\n",
       "      <th>MT</th>\n",
       "      <td>1012</td>\n",
       "      <td>377</td>\n",
       "      <td>34</td>\n",
       "      <td>31</td>\n",
       "      <td>306</td>\n",
       "      <td>7</td>\n",
       "      <td>120</td>\n",
       "      <td>33</td>\n",
       "      <td>109</td>\n",
       "      <td>5</td>\n",
       "      <td>14</td>\n",
       "    </tr>\n",
       "    <tr>\n",
       "      <th>GO</th>\n",
       "      <td>2155</td>\n",
       "      <td>687</td>\n",
       "      <td>35</td>\n",
       "      <td>19</td>\n",
       "      <td>606</td>\n",
       "      <td>8</td>\n",
       "      <td>177</td>\n",
       "      <td>35</td>\n",
       "      <td>247</td>\n",
       "      <td>9</td>\n",
       "      <td>17</td>\n",
       "    </tr>\n",
       "    <tr>\n",
       "      <th>DF</th>\n",
       "      <td>1423</td>\n",
       "      <td>395</td>\n",
       "      <td>30</td>\n",
       "      <td>42</td>\n",
       "      <td>642</td>\n",
       "      <td>6</td>\n",
       "      <td>160</td>\n",
       "      <td>22</td>\n",
       "      <td>172</td>\n",
       "      <td>5</td>\n",
       "      <td>32</td>\n",
       "    </tr>\n",
       "  </tbody>\n",
       "</table>\n",
       "</div>"
      ],
      "text/plain": [
       "V6003  Regular do ensino fundamental  Regular do ensino médio  \\\n",
       "UF                                                              \n",
       "RO                              1242                      331   \n",
       "AC                               948                      203   \n",
       "AM                              2722                      693   \n",
       "RR                               487                      139   \n",
       "PA                              4313                     1140   \n",
       "AP                               594                      156   \n",
       "TO                              1176                      393   \n",
       "MA                              1903                      543   \n",
       "PI                              1038                      260   \n",
       "CE                              3072                      894   \n",
       "RN                               788                      204   \n",
       "PB                               993                      245   \n",
       "PE                              3059                      914   \n",
       "AL                              1043                      214   \n",
       "SE                              1056                      266   \n",
       "BA                              4663                     1202   \n",
       "MG                              4705                     1450   \n",
       "ES                               972                      260   \n",
       "RJ                              3487                     1055   \n",
       "SP                              5089                     1695   \n",
       "PR                              2565                      784   \n",
       "SC                              1253                      412   \n",
       "RS                              3609                     1044   \n",
       "MS                               918                      226   \n",
       "MT                              1012                      377   \n",
       "GO                              2155                      687   \n",
       "DF                              1423                      395   \n",
       "\n",
       "V6003  Educação de jovens e adultos ou supletivo do ensino fundamental  \\\n",
       "UF                                                                       \n",
       "RO                                                    43                 \n",
       "AC                                                    65                 \n",
       "AM                                                    96                 \n",
       "RR                                                    19                 \n",
       "PA                                                   161                 \n",
       "AP                                                    17                 \n",
       "TO                                                    32                 \n",
       "MA                                                    51                 \n",
       "PI                                                    32                 \n",
       "CE                                                    89                 \n",
       "RN                                                    36                 \n",
       "PB                                                    45                 \n",
       "PE                                                   101                 \n",
       "AL                                                    38                 \n",
       "SE                                                    40                 \n",
       "BA                                                   137                 \n",
       "MG                                                    97                 \n",
       "ES                                                    15                 \n",
       "RJ                                                    52                 \n",
       "SP                                                    59                 \n",
       "PR                                                    66                 \n",
       "SC                                                    19                 \n",
       "RS                                                    59                 \n",
       "MS                                                    28                 \n",
       "MT                                                    34                 \n",
       "GO                                                    35                 \n",
       "DF                                                    30                 \n",
       "\n",
       "V6003  Educação de jovens e adultos ou supletivo do ensino médio  \\\n",
       "UF                                                                 \n",
       "RO                                                    41           \n",
       "AC                                                    38           \n",
       "AM                                                    42           \n",
       "RR                                                     9           \n",
       "PA                                                    64           \n",
       "AP                                                     7           \n",
       "TO                                                     7           \n",
       "MA                                                     8           \n",
       "PI                                                    15           \n",
       "CE                                                    48           \n",
       "RN                                                    10           \n",
       "PB                                                    11           \n",
       "PE                                                    80           \n",
       "AL                                                     6           \n",
       "SE                                                    15           \n",
       "BA                                                    69           \n",
       "MG                                                   121           \n",
       "ES                                                    12           \n",
       "RJ                                                    43           \n",
       "SP                                                    77           \n",
       "PR                                                    73           \n",
       "SC                                                    24           \n",
       "RS                                                    65           \n",
       "MS                                                    20           \n",
       "MT                                                    31           \n",
       "GO                                                    19           \n",
       "DF                                                    42           \n",
       "\n",
       "V6003  Superior de graduação  Alfabetização de jovens e adultos  Creche  \\\n",
       "UF                                                                        \n",
       "RO                       221                                  5      67   \n",
       "AC                       162                                 11      56   \n",
       "AM                       547                                 11     123   \n",
       "RR                       128                                  2      48   \n",
       "PA                       586                                 12     296   \n",
       "AP                       144                                  6      35   \n",
       "TO                       223                                  2      82   \n",
       "MA                       195                                 33     190   \n",
       "PI                       182                                 18     120   \n",
       "CE                       635                                 37     356   \n",
       "RN                       175                                 19     116   \n",
       "PB                       245                                 16      97   \n",
       "PE                       666                                 25     375   \n",
       "AL                       165                                  9      95   \n",
       "SE                       223                                  8      94   \n",
       "BA                       764                                 62     446   \n",
       "MG                      1156                                 44     589   \n",
       "ES                       248                                  4     149   \n",
       "RJ                       791                                 19     451   \n",
       "SP                      1387                                 15     932   \n",
       "PR                       750                                 23     448   \n",
       "SC                       459                                  7     246   \n",
       "RS                      1052                                 21     523   \n",
       "MS                       278                                  5     124   \n",
       "MT                       306                                  7     120   \n",
       "GO                       606                                  8     177   \n",
       "DF                       642                                  6     160   \n",
       "\n",
       "V6003  Classe de alfabetização - CA  Maternal, jardim de infância etc.  \\\n",
       "UF                                                                       \n",
       "RO                               19                                101   \n",
       "AC                               26                                 84   \n",
       "AM                               80                                271   \n",
       "RR                               16                                 47   \n",
       "PA                               51                                501   \n",
       "AP                               13                                 48   \n",
       "TO                               33                                 93   \n",
       "MA                               22                                264   \n",
       "PI                                8                                125   \n",
       "CE                               34                                414   \n",
       "RN                               14                                 95   \n",
       "PB                               15                                143   \n",
       "PE                               79                                340   \n",
       "AL                               19                                115   \n",
       "SE                               39                                149   \n",
       "BA                              141                                537   \n",
       "MG                               29                                546   \n",
       "ES                               23                                101   \n",
       "RJ                              167                                395   \n",
       "SP                               63                                614   \n",
       "PR                               29                                230   \n",
       "SC                               11                                141   \n",
       "RS                               28                                323   \n",
       "MS                               24                                 88   \n",
       "MT                               33                                109   \n",
       "GO                               35                                247   \n",
       "DF                               22                                172   \n",
       "\n",
       "V6003  Pré-vestibular  Mestrado ou doutorado  \n",
       "UF                                            \n",
       "RO                  1                      8  \n",
       "AC                  0                      6  \n",
       "AM                  3                     14  \n",
       "RR                  2                      6  \n",
       "PA                 41                     28  \n",
       "AP                  6                     11  \n",
       "TO                  0                      6  \n",
       "MA                  2                      8  \n",
       "PI                  4                      7  \n",
       "CE                  7                     33  \n",
       "RN                  2                     10  \n",
       "PB                  2                     16  \n",
       "PE                  3                     52  \n",
       "AL                  6                      6  \n",
       "SE                  2                      7  \n",
       "BA                 25                     49  \n",
       "MG                 26                     62  \n",
       "ES                  3                     11  \n",
       "RJ                 10                     51  \n",
       "SP                 29                    101  \n",
       "PR                 12                     44  \n",
       "SC                  2                     25  \n",
       "RS                 16                     70  \n",
       "MS                  1                     14  \n",
       "MT                  5                     14  \n",
       "GO                  9                     17  \n",
       "DF                  5                     32  "
      ]
     },
     "execution_count": 20,
     "metadata": {},
     "output_type": "execute_result"
    }
   ],
   "source": [
    "print('Tabela Cruzada CURSO x ESTADO:')\n",
    "ct3=pd.crosstab(dados.UF,dados.V6003)\n",
    "ct3"
   ]
  },
  {
   "cell_type": "code",
   "execution_count": 21,
   "metadata": {
    "collapsed": false
   },
   "outputs": [
    {
     "name": "stdout",
     "output_type": "stream",
     "text": [
      "Tratamento dos dados da variável V40011 (Estado civil)\n"
     ]
    }
   ],
   "source": [
    "print('Tratamento dos dados da variável V40011 (Estado civil)')"
   ]
  },
  {
   "cell_type": "code",
   "execution_count": 22,
   "metadata": {
    "collapsed": false
   },
   "outputs": [
    {
     "name": "stdout",
     "output_type": "stream",
     "text": [
      "Frequências relativas por estado civil\n",
      "Casado(a)                                     47.711\n",
      "Solteiro(a)                                    4.570\n",
      "Viúvo(a)                                       3.342\n",
      "Desquitado(a) ou separado(a) judicialmente     3.147\n",
      "Divorciado(a)                                  1.246\n",
      "dtype: float64 \n",
      "\n"
     ]
    }
   ],
   "source": [
    "print('Frequências relativas por estado civil')\n",
    "ut4 = (dados.V4011.value_counts()/n*100).round(decimals=3)\n",
    "print(ut4,'\\n')"
   ]
  },
  {
   "cell_type": "code",
   "execution_count": 23,
   "metadata": {
    "collapsed": false
   },
   "outputs": [
    {
     "data": {
      "text/plain": [
       "<matplotlib.text.Text at 0x9c8bb1c0f0>"
      ]
     },
     "execution_count": 23,
     "metadata": {},
     "output_type": "execute_result"
    },
    {
     "data": {
      "image/png": "[encoded data removed]",
      "text/plain": [
       "<matplotlib.figure.Figure at 0x9c8bb218d0>"
      ]
     },
     "metadata": {},
     "output_type": "display_data"
    }
   ],
   "source": [
    "plot = ut4.plot(kind='bar',title='Estado civil',figsize=(6, 6),color=('b','g','r','y','black'))\n",
    "plt.ylabel('Freq.Relativa (em%)')\n",
    "plt.xlabel('')"
   ]
  },
  {
   "cell_type": "code",
   "execution_count": 24,
   "metadata": {
    "collapsed": false
   },
   "outputs": [
    {
     "data": {
      "image/png": "[encoded data removed]",
      "text/plain": [
       "<matplotlib.figure.Figure at 0x9c8bc57da0>"
      ]
     },
     "metadata": {},
     "output_type": "display_data"
    }
   ],
   "source": [
    "plot = ut4.plot(kind='pie',title='Estado civil',autopct='%.1f',figsize=(8, 8))\n"
   ]
  },
  {
   "cell_type": "code",
   "execution_count": 25,
   "metadata": {
    "collapsed": false
   },
   "outputs": [
    {
     "name": "stdout",
     "output_type": "stream",
     "text": [
      "Tabela ESTADO CIVIL x ESTADO:\n"
     ]
    },
    {
     "data": {
      "text/html": [
       "<div>\n",
       "<table border=\"1\" class=\"dataframe\">\n",
       "  <thead>\n",
       "    <tr style=\"text-align: right;\">\n",
       "      <th>V4011</th>\n",
       "      <th>Casado(a)</th>\n",
       "      <th>Desquitado(a) ou separado(a) judicialmente</th>\n",
       "      <th>Divorciado(a)</th>\n",
       "      <th>Viúvo(a)</th>\n",
       "      <th>Solteiro(a)</th>\n",
       "    </tr>\n",
       "    <tr>\n",
       "      <th>UF</th>\n",
       "      <th></th>\n",
       "      <th></th>\n",
       "      <th></th>\n",
       "      <th></th>\n",
       "      <th></th>\n",
       "    </tr>\n",
       "  </thead>\n",
       "  <tbody>\n",
       "    <tr>\n",
       "      <th>RO</th>\n",
       "      <td>3162</td>\n",
       "      <td>385</td>\n",
       "      <td>61</td>\n",
       "      <td>241</td>\n",
       "      <td>220</td>\n",
       "    </tr>\n",
       "    <tr>\n",
       "      <th>AC</th>\n",
       "      <td>2412</td>\n",
       "      <td>193</td>\n",
       "      <td>11</td>\n",
       "      <td>91</td>\n",
       "      <td>130</td>\n",
       "    </tr>\n",
       "    <tr>\n",
       "      <th>AM</th>\n",
       "      <td>7361</td>\n",
       "      <td>325</td>\n",
       "      <td>84</td>\n",
       "      <td>217</td>\n",
       "      <td>350</td>\n",
       "    </tr>\n",
       "    <tr>\n",
       "      <th>RR</th>\n",
       "      <td>1555</td>\n",
       "      <td>62</td>\n",
       "      <td>26</td>\n",
       "      <td>78</td>\n",
       "      <td>68</td>\n",
       "    </tr>\n",
       "    <tr>\n",
       "      <th>PA</th>\n",
       "      <td>12414</td>\n",
       "      <td>1068</td>\n",
       "      <td>97</td>\n",
       "      <td>450</td>\n",
       "      <td>733</td>\n",
       "    </tr>\n",
       "    <tr>\n",
       "      <th>AP</th>\n",
       "      <td>1541</td>\n",
       "      <td>304</td>\n",
       "      <td>19</td>\n",
       "      <td>59</td>\n",
       "      <td>69</td>\n",
       "    </tr>\n",
       "    <tr>\n",
       "      <th>TO</th>\n",
       "      <td>3258</td>\n",
       "      <td>271</td>\n",
       "      <td>50</td>\n",
       "      <td>190</td>\n",
       "      <td>222</td>\n",
       "    </tr>\n",
       "    <tr>\n",
       "      <th>MA</th>\n",
       "      <td>5049</td>\n",
       "      <td>367</td>\n",
       "      <td>71</td>\n",
       "      <td>115</td>\n",
       "      <td>335</td>\n",
       "    </tr>\n",
       "    <tr>\n",
       "      <th>PI</th>\n",
       "      <td>2981</td>\n",
       "      <td>116</td>\n",
       "      <td>44</td>\n",
       "      <td>113</td>\n",
       "      <td>225</td>\n",
       "    </tr>\n",
       "    <tr>\n",
       "      <th>CE</th>\n",
       "      <td>9661</td>\n",
       "      <td>776</td>\n",
       "      <td>208</td>\n",
       "      <td>388</td>\n",
       "      <td>784</td>\n",
       "    </tr>\n",
       "    <tr>\n",
       "      <th>RN</th>\n",
       "      <td>2631</td>\n",
       "      <td>157</td>\n",
       "      <td>52</td>\n",
       "      <td>147</td>\n",
       "      <td>198</td>\n",
       "    </tr>\n",
       "    <tr>\n",
       "      <th>PB</th>\n",
       "      <td>2864</td>\n",
       "      <td>232</td>\n",
       "      <td>84</td>\n",
       "      <td>184</td>\n",
       "      <td>273</td>\n",
       "    </tr>\n",
       "    <tr>\n",
       "      <th>PE</th>\n",
       "      <td>10427</td>\n",
       "      <td>488</td>\n",
       "      <td>158</td>\n",
       "      <td>664</td>\n",
       "      <td>1075</td>\n",
       "    </tr>\n",
       "    <tr>\n",
       "      <th>AL</th>\n",
       "      <td>2821</td>\n",
       "      <td>182</td>\n",
       "      <td>54</td>\n",
       "      <td>118</td>\n",
       "      <td>231</td>\n",
       "    </tr>\n",
       "    <tr>\n",
       "      <th>SE</th>\n",
       "      <td>3271</td>\n",
       "      <td>141</td>\n",
       "      <td>56</td>\n",
       "      <td>185</td>\n",
       "      <td>229</td>\n",
       "    </tr>\n",
       "    <tr>\n",
       "      <th>BA</th>\n",
       "      <td>14835</td>\n",
       "      <td>1094</td>\n",
       "      <td>269</td>\n",
       "      <td>669</td>\n",
       "      <td>1131</td>\n",
       "    </tr>\n",
       "    <tr>\n",
       "      <th>MG</th>\n",
       "      <td>14250</td>\n",
       "      <td>688</td>\n",
       "      <td>431</td>\n",
       "      <td>1329</td>\n",
       "      <td>1662</td>\n",
       "    </tr>\n",
       "    <tr>\n",
       "      <th>ES</th>\n",
       "      <td>2738</td>\n",
       "      <td>206</td>\n",
       "      <td>118</td>\n",
       "      <td>253</td>\n",
       "      <td>328</td>\n",
       "    </tr>\n",
       "    <tr>\n",
       "      <th>RJ</th>\n",
       "      <td>11615</td>\n",
       "      <td>868</td>\n",
       "      <td>432</td>\n",
       "      <td>1106</td>\n",
       "      <td>1619</td>\n",
       "    </tr>\n",
       "    <tr>\n",
       "      <th>SP</th>\n",
       "      <td>16454</td>\n",
       "      <td>1013</td>\n",
       "      <td>644</td>\n",
       "      <td>1688</td>\n",
       "      <td>2036</td>\n",
       "    </tr>\n",
       "    <tr>\n",
       "      <th>PR</th>\n",
       "      <td>7687</td>\n",
       "      <td>511</td>\n",
       "      <td>284</td>\n",
       "      <td>764</td>\n",
       "      <td>972</td>\n",
       "    </tr>\n",
       "    <tr>\n",
       "      <th>SC</th>\n",
       "      <td>4080</td>\n",
       "      <td>249</td>\n",
       "      <td>180</td>\n",
       "      <td>390</td>\n",
       "      <td>502</td>\n",
       "    </tr>\n",
       "    <tr>\n",
       "      <th>RS</th>\n",
       "      <td>12600</td>\n",
       "      <td>532</td>\n",
       "      <td>566</td>\n",
       "      <td>1139</td>\n",
       "      <td>1633</td>\n",
       "    </tr>\n",
       "    <tr>\n",
       "      <th>MS</th>\n",
       "      <td>2839</td>\n",
       "      <td>161</td>\n",
       "      <td>79</td>\n",
       "      <td>302</td>\n",
       "      <td>256</td>\n",
       "    </tr>\n",
       "    <tr>\n",
       "      <th>MT</th>\n",
       "      <td>3360</td>\n",
       "      <td>246</td>\n",
       "      <td>91</td>\n",
       "      <td>261</td>\n",
       "      <td>260</td>\n",
       "    </tr>\n",
       "    <tr>\n",
       "      <th>GO</th>\n",
       "      <td>6497</td>\n",
       "      <td>563</td>\n",
       "      <td>214</td>\n",
       "      <td>566</td>\n",
       "      <td>704</td>\n",
       "    </tr>\n",
       "    <tr>\n",
       "      <th>DF</th>\n",
       "      <td>4614</td>\n",
       "      <td>211</td>\n",
       "      <td>136</td>\n",
       "      <td>408</td>\n",
       "      <td>322</td>\n",
       "    </tr>\n",
       "  </tbody>\n",
       "</table>\n",
       "</div>"
      ],
      "text/plain": [
       "V4011  Casado(a)  Desquitado(a) ou separado(a) judicialmente  Divorciado(a)  \\\n",
       "UF                                                                            \n",
       "RO          3162                                         385             61   \n",
       "AC          2412                                         193             11   \n",
       "AM          7361                                         325             84   \n",
       "RR          1555                                          62             26   \n",
       "PA         12414                                        1068             97   \n",
       "AP          1541                                         304             19   \n",
       "TO          3258                                         271             50   \n",
       "MA          5049                                         367             71   \n",
       "PI          2981                                         116             44   \n",
       "CE          9661                                         776            208   \n",
       "RN          2631                                         157             52   \n",
       "PB          2864                                         232             84   \n",
       "PE         10427                                         488            158   \n",
       "AL          2821                                         182             54   \n",
       "SE          3271                                         141             56   \n",
       "BA         14835                                        1094            269   \n",
       "MG         14250                                         688            431   \n",
       "ES          2738                                         206            118   \n",
       "RJ         11615                                         868            432   \n",
       "SP         16454                                        1013            644   \n",
       "PR          7687                                         511            284   \n",
       "SC          4080                                         249            180   \n",
       "RS         12600                                         532            566   \n",
       "MS          2839                                         161             79   \n",
       "MT          3360                                         246             91   \n",
       "GO          6497                                         563            214   \n",
       "DF          4614                                         211            136   \n",
       "\n",
       "V4011  Viúvo(a)  Solteiro(a)  \n",
       "UF                            \n",
       "RO          241          220  \n",
       "AC           91          130  \n",
       "AM          217          350  \n",
       "RR           78           68  \n",
       "PA          450          733  \n",
       "AP           59           69  \n",
       "TO          190          222  \n",
       "MA          115          335  \n",
       "PI          113          225  \n",
       "CE          388          784  \n",
       "RN          147          198  \n",
       "PB          184          273  \n",
       "PE          664         1075  \n",
       "AL          118          231  \n",
       "SE          185          229  \n",
       "BA          669         1131  \n",
       "MG         1329         1662  \n",
       "ES          253          328  \n",
       "RJ         1106         1619  \n",
       "SP         1688         2036  \n",
       "PR          764          972  \n",
       "SC          390          502  \n",
       "RS         1139         1633  \n",
       "MS          302          256  \n",
       "MT          261          260  \n",
       "GO          566          704  \n",
       "DF          408          322  "
      ]
     },
     "execution_count": 25,
     "metadata": {},
     "output_type": "execute_result"
    }
   ],
   "source": [
    "print('Tabela ESTADO CIVIL x ESTADO:')\n",
    "ct4=pd.crosstab(dados.UF,dados.V4011)\n",
    "ct4"
   ]
  },
  {
   "cell_type": "code",
   "execution_count": 26,
   "metadata": {
    "collapsed": false
   },
   "outputs": [
    {
     "data": {
      "text/plain": [
       "(15, 20]    31615\n",
       "(10, 15]    31418\n",
       "(30, 35]    29744\n",
       "(25, 30]    29004\n",
       "(20, 25]    28795\n",
       "(35, 40]    26775\n",
       "(40, 45]    24567\n",
       "(45, 50]    23414\n",
       "(50, 55]    20383\n",
       "(55, 60]    17486\n",
       "(60, 65]    13761\n",
       "(65, 70]    10067\n",
       "(70, 75]     7628\n",
       "(75, 80]     5122\n",
       "dtype: int64"
      ]
     },
     "execution_count": 26,
     "metadata": {},
     "output_type": "execute_result"
    }
   ],
   "source": [
    "dados.V8005 = dados.V8005.astype('float')\n",
    "idade = dados.V8005\n",
    "import numpy as np\n",
    "\n",
    "intervalo_idades = range(10,85,5)\n",
    "f_idade = pd.cut(idade,intervalo_idades)\n",
    "f_idade.value_counts()\n",
    "\n"
   ]
  },
  {
   "cell_type": "code",
   "execution_count": 27,
   "metadata": {
    "collapsed": false
   },
   "outputs": [
    {
     "data": {
      "text/plain": [
       "<matplotlib.axes._subplots.AxesSubplot at 0x9c8bb12b38>"
      ]
     },
     "execution_count": 27,
     "metadata": {},
     "output_type": "execute_result"
    },
    {
     "data": {
      "image/png": "[encoded data removed]",
      "text/plain": [
       "<matplotlib.figure.Figure at 0x9c8bc54208>"
      ]
     },
     "metadata": {},
     "output_type": "display_data"
    }
   ],
   "source": [
    "idade.plot.box()"
   ]
  },
  {
   "cell_type": "code",
   "execution_count": 28,
   "metadata": {
    "collapsed": false
   },
   "outputs": [
    {
     "data": {
      "image/png": "[encoded data removed]",
      "text/plain": [
       "<matplotlib.figure.Figure at 0x9c8c6c6fd0>"
      ]
     },
     "metadata": {},
     "output_type": "display_data"
    }
   ],
   "source": [
    "intervalo_idades = np.arange(0,120,5)\n",
    "plot = idade.plot.hist(bins=intervalo_idades,normed = 1)"
   ]
  },
  {
   "cell_type": "code",
   "execution_count": 29,
   "metadata": {
    "collapsed": false
   },
   "outputs": [
    {
     "data": {
      "text/plain": [
       "(200, 300]      37953\n",
       "(300, 400]      37610\n",
       "(400, 500]      31307\n",
       "(600, 700]      30133\n",
       "(100, 200]      28886\n",
       "(500, 600]      24369\n",
       "(700, 800]      19186\n",
       "(800, 900]      15097\n",
       "(0, 100]        14750\n",
       "(900, 1000]     14218\n",
       "(1000, 1100]     9786\n",
       "(1100, 1200]     8385\n",
       "(1300, 1400]     6992\n",
       "(1200, 1300]     6914\n",
       "(1400, 1500]     5768\n",
       "(1600, 1700]     3725\n",
       "(1900, 2000]     3597\n",
       "(1500, 1600]     3524\n",
       "(1700, 1800]     3094\n",
       "(1800, 1900]     2458\n",
       "(2400, 2500]     2045\n",
       "(2100, 2200]     1684\n",
       "(2900, 3000]     1621\n",
       "(2200, 2300]     1607\n",
       "(2000, 2100]     1587\n",
       "(2300, 2400]     1460\n",
       "(2600, 2700]     1142\n",
       "(2700, 2800]     1063\n",
       "(2500, 2600]      932\n",
       "(3900, 4000]      915\n",
       "                ...  \n",
       "(6300, 6400]       93\n",
       "(5000, 5100]       89\n",
       "(7600, 7700]       82\n",
       "(8300, 8400]       81\n",
       "(6500, 6600]       72\n",
       "(7700, 7800]       68\n",
       "(7200, 7300]       67\n",
       "(6000, 6100]       65\n",
       "(8700, 8800]       65\n",
       "(9400, 9500]       58\n",
       "(7300, 7400]       55\n",
       "(7100, 7200]       55\n",
       "(6800, 6900]       55\n",
       "(7000, 7100]       53\n",
       "(9300, 9400]       53\n",
       "(8000, 8100]       49\n",
       "(8200, 8300]       45\n",
       "(9200, 9300]       42\n",
       "(7500, 7600]       35\n",
       "(8800, 8900]       32\n",
       "(8100, 8200]       31\n",
       "(9800, 9900]       30\n",
       "(7800, 7900]       29\n",
       "(8600, 8700]       24\n",
       "(9600, 9700]       24\n",
       "(9100, 9200]       22\n",
       "(8500, 8600]       20\n",
       "(9000, 9100]       18\n",
       "(9500, 9600]       13\n",
       "(9700, 9800]       11\n",
       "dtype: int64"
      ]
     },
     "execution_count": 29,
     "metadata": {},
     "output_type": "execute_result"
    }
   ],
   "source": [
    "dados.V4750 = dados.V4750.astype('float')\n",
    "renda = dados.V4750\n",
    "\n",
    "intervalo_renda = range(0,10000,100)\n",
    "f_renda = pd.cut(renda,intervalo_renda)\n",
    "f_renda.value_counts()\n"
   ]
  },
  {
   "cell_type": "code",
   "execution_count": 30,
   "metadata": {
    "collapsed": false
   },
   "outputs": [
    {
     "data": {
      "text/plain": [
       "<matplotlib.axes._subplots.AxesSubplot at 0x9c8ee99a90>"
      ]
     },
     "execution_count": 30,
     "metadata": {},
     "output_type": "execute_result"
    },
    {
     "data": {
      "image/png": "[encoded data removed]",
      "text/plain": [
       "<matplotlib.figure.Figure at 0x9c816d4208>"
      ]
     },
     "metadata": {},
     "output_type": "display_data"
    }
   ],
   "source": [
    "renda.plot.hist(range(0,6000,200))"
   ]
  },
  {
   "cell_type": "code",
   "execution_count": 31,
   "metadata": {
    "collapsed": true
   },
   "outputs": [],
   "source": [
    "renda = renda[renda != 999999999999]"
   ]
  },
  {
   "cell_type": "code",
   "execution_count": 32,
   "metadata": {
    "collapsed": false
   },
   "outputs": [
    {
     "data": {
      "text/plain": [
       "<matplotlib.axes._subplots.AxesSubplot at 0x9c8eeafeb8>"
      ]
     },
     "execution_count": 32,
     "metadata": {},
     "output_type": "execute_result"
    },
    {
     "data": {
      "image/png": "[encoded data removed]",
      "text/plain": [
       "<matplotlib.figure.Figure at 0x9c8efb1f28>"
      ]
     },
     "metadata": {},
     "output_type": "display_data"
    }
   ],
   "source": [
    "renda.plot.box()"
   ]
  },
  {
   "cell_type": "code",
   "execution_count": 35,
   "metadata": {
    "collapsed": false
   },
   "outputs": [
    {
     "data": {
      "text/plain": [
       "count    344109.000000\n",
       "mean        923.229221\n",
       "std        1483.892457\n",
       "min           0.000000\n",
       "25%         300.000000\n",
       "50%         563.000000\n",
       "75%        1000.000000\n",
       "max       82000.000000\n",
       "Name: V4750, dtype: float64"
      ]
     },
     "execution_count": 35,
     "metadata": {},
     "output_type": "execute_result"
    }
   ],
   "source": [
    "renda.describe()\n"
   ]
  },
  {
   "cell_type": "code",
   "execution_count": 36,
   "metadata": {
    "collapsed": false
   },
   "outputs": [
    {
     "data": {
      "text/plain": [
       "count    362555.000000\n",
       "mean         33.049813\n",
       "std          20.870874\n",
       "min           0.000000\n",
       "25%          16.000000\n",
       "50%          31.000000\n",
       "75%          48.000000\n",
       "max         109.000000\n",
       "Name: V8005, dtype: float64"
      ]
     },
     "execution_count": 36,
     "metadata": {},
     "output_type": "execute_result"
    }
   ],
   "source": [
    "idade.describe()"
   ]
  },
  {
   "cell_type": "code",
   "execution_count": 37,
   "metadata": {
    "collapsed": false
   },
   "outputs": [
    {
     "data": {
      "text/plain": [
       "<matplotlib.axes._subplots.AxesSubplot at 0x9c8ef99320>"
      ]
     },
     "execution_count": 37,
     "metadata": {},
     "output_type": "execute_result"
    },
    {
     "data": {
      "image/png": "[encoded data removed]",
      "text/plain": [
       "<matplotlib.figure.Figure at 0x9c8efbbc88>"
      ]
     },
     "metadata": {},
     "output_type": "display_data"
    }
   ],
   "source": [
    "renda[renda < 20000].plot.box()"
   ]
  },
  {
   "cell_type": "code",
   "execution_count": null,
   "metadata": {
    "collapsed": true
   },
   "outputs": [],
   "source": []
  }
 ],
 "metadata": {
  "anaconda-cloud": {},
  "kernelspec": {
   "display_name": "Python 3",
   "language": "python",
   "name": "python3"
  },
  "language_info": {
   "codemirror_mode": {
    "name": "ipython",
    "version": 3
   },
   "file_extension": ".py",
   "mimetype": "text/x-python",
   "name": "python",
   "nbconvert_exporter": "python",
   "pygments_lexer": "ipython3",
   "version": "3.5.2"
  }
 },
 "nbformat": 4,
 "nbformat_minor": 0
}
